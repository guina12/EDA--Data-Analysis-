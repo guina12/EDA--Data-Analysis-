{
 "cells": [
  {
   "cell_type": "markdown",
   "id": "1f5be61c",
   "metadata": {
    "id": "v-BYYhLanTeS",
    "papermill": {
     "duration": 0.018454,
     "end_time": "2023-03-11T22:53:48.940790",
     "exception": false,
     "start_time": "2023-03-11T22:53:48.922336",
     "status": "completed"
    },
    "tags": []
   },
   "source": [
    "# 1-Analise e exploração dos dados ."
   ]
  },
  {
   "cell_type": "markdown",
   "id": "daa74e12",
   "metadata": {
    "id": "VDseFfWHnaN9",
    "papermill": {
     "duration": 0.016414,
     "end_time": "2023-03-11T22:53:48.976239",
     "exception": false,
     "start_time": "2023-03-11T22:53:48.959825",
     "status": "completed"
    },
    "tags": []
   },
   "source": [
    "1-Extração dos dados."
   ]
  },
  {
   "cell_type": "code",
   "execution_count": 1,
   "id": "454623b5",
   "metadata": {
    "execution": {
     "iopub.execute_input": "2023-03-11T22:53:49.013096Z",
     "iopub.status.busy": "2023-03-11T22:53:49.012168Z",
     "iopub.status.idle": "2023-03-11T22:53:49.022366Z",
     "shell.execute_reply": "2023-03-11T22:53:49.021329Z"
    },
    "id": "nES_lLjSnfXz",
    "papermill": {
     "duration": 0.031752,
     "end_time": "2023-03-11T22:53:49.024917",
     "exception": false,
     "start_time": "2023-03-11T22:53:48.993165",
     "status": "completed"
    },
    "tags": []
   },
   "outputs": [],
   "source": [
    "import matplotlib.pyplot as plt\n",
    "import numpy as np\n",
    "import pandas as pd\n"
   ]
  },
  {
   "cell_type": "code",
   "execution_count": 2,
   "id": "11710a45",
   "metadata": {
    "execution": {
     "iopub.execute_input": "2023-03-11T22:53:49.062791Z",
     "iopub.status.busy": "2023-03-11T22:53:49.062071Z",
     "iopub.status.idle": "2023-03-11T22:53:49.103815Z",
     "shell.execute_reply": "2023-03-11T22:53:49.102790Z"
    },
    "id": "aHCkEWwEnnKS",
    "papermill": {
     "duration": 0.063075,
     "end_time": "2023-03-11T22:53:49.106475",
     "exception": false,
     "start_time": "2023-03-11T22:53:49.043400",
     "status": "completed"
    },
    "tags": []
   },
   "outputs": [],
   "source": [
    "df=pd.read_csv('/kaggle/input/walmart-sales-analysis/Walmart.csv')"
   ]
  },
  {
   "cell_type": "code",
   "execution_count": 3,
   "id": "6ffea13b",
   "metadata": {
    "execution": {
     "iopub.execute_input": "2023-03-11T22:53:49.144863Z",
     "iopub.status.busy": "2023-03-11T22:53:49.144113Z",
     "iopub.status.idle": "2023-03-11T22:53:49.183944Z",
     "shell.execute_reply": "2023-03-11T22:53:49.182874Z"
    },
    "id": "uVQ0I-jKn-xk",
    "outputId": "ba2fa320-b8fc-4e95-d6a9-4376cb79b246",
    "papermill": {
     "duration": 0.063783,
     "end_time": "2023-03-11T22:53:49.188286",
     "exception": false,
     "start_time": "2023-03-11T22:53:49.124503",
     "status": "completed"
    },
    "tags": []
   },
   "outputs": [
    {
     "data": {
      "text/html": [
       "<div>\n",
       "<style scoped>\n",
       "    .dataframe tbody tr th:only-of-type {\n",
       "        vertical-align: middle;\n",
       "    }\n",
       "\n",
       "    .dataframe tbody tr th {\n",
       "        vertical-align: top;\n",
       "    }\n",
       "\n",
       "    .dataframe thead th {\n",
       "        text-align: right;\n",
       "    }\n",
       "</style>\n",
       "<table border=\"1\" class=\"dataframe\">\n",
       "  <thead>\n",
       "    <tr style=\"text-align: right;\">\n",
       "      <th></th>\n",
       "      <th>Order ID</th>\n",
       "      <th>Order Date</th>\n",
       "      <th>Ship Date</th>\n",
       "      <th>Customer Name</th>\n",
       "      <th>Country</th>\n",
       "      <th>City</th>\n",
       "      <th>State</th>\n",
       "      <th>Category</th>\n",
       "      <th>Product Name</th>\n",
       "      <th>Sales</th>\n",
       "      <th>Quantity</th>\n",
       "      <th>Profit</th>\n",
       "    </tr>\n",
       "  </thead>\n",
       "  <tbody>\n",
       "    <tr>\n",
       "      <th>0</th>\n",
       "      <td>CA-2013-138688</td>\n",
       "      <td>13-06-2013</td>\n",
       "      <td>17-06-2013</td>\n",
       "      <td>Darrin Van Huff</td>\n",
       "      <td>United States</td>\n",
       "      <td>Los Angeles</td>\n",
       "      <td>California</td>\n",
       "      <td>Labels</td>\n",
       "      <td>Self-Adhesive Address Labels for Typewriters b...</td>\n",
       "      <td>14.62</td>\n",
       "      <td>2.0</td>\n",
       "      <td>6.87</td>\n",
       "    </tr>\n",
       "    <tr>\n",
       "      <th>1</th>\n",
       "      <td>CA-2011-115812</td>\n",
       "      <td>09-06-2011</td>\n",
       "      <td>14-06-2011</td>\n",
       "      <td>Brosina Hoffman</td>\n",
       "      <td>United States</td>\n",
       "      <td>Los Angeles</td>\n",
       "      <td>California</td>\n",
       "      <td>Furnishings</td>\n",
       "      <td>Eldon Expressions Wood and Plastic Desk Access...</td>\n",
       "      <td>48.86</td>\n",
       "      <td>7.0</td>\n",
       "      <td>14.17</td>\n",
       "    </tr>\n",
       "    <tr>\n",
       "      <th>2</th>\n",
       "      <td>CA-2011-115812</td>\n",
       "      <td>09-06-2011</td>\n",
       "      <td>14-06-2011</td>\n",
       "      <td>Brosina Hoffman</td>\n",
       "      <td>United States</td>\n",
       "      <td>Los Angeles</td>\n",
       "      <td>California</td>\n",
       "      <td>Art</td>\n",
       "      <td>Newell 322</td>\n",
       "      <td>7.28</td>\n",
       "      <td>4.0</td>\n",
       "      <td>1.97</td>\n",
       "    </tr>\n",
       "    <tr>\n",
       "      <th>3</th>\n",
       "      <td>CA-2011-115812</td>\n",
       "      <td>09-06-2011</td>\n",
       "      <td>14-06-2011</td>\n",
       "      <td>Brosina Hoffman</td>\n",
       "      <td>United States</td>\n",
       "      <td>Los Angeles</td>\n",
       "      <td>California</td>\n",
       "      <td>Phones</td>\n",
       "      <td>Mitel 5320 IP Phone VoIP phone</td>\n",
       "      <td>907.15</td>\n",
       "      <td>4.0</td>\n",
       "      <td>90.72</td>\n",
       "    </tr>\n",
       "    <tr>\n",
       "      <th>4</th>\n",
       "      <td>CA-2011-115812</td>\n",
       "      <td>09-06-2011</td>\n",
       "      <td>14-06-2011</td>\n",
       "      <td>Brosina Hoffman</td>\n",
       "      <td>United States</td>\n",
       "      <td>Los Angeles</td>\n",
       "      <td>California</td>\n",
       "      <td>Binders</td>\n",
       "      <td>DXL Angle-View Binders with Locking Rings by S...</td>\n",
       "      <td>18.50</td>\n",
       "      <td>3.0</td>\n",
       "      <td>5.78</td>\n",
       "    </tr>\n",
       "    <tr>\n",
       "      <th>...</th>\n",
       "      <td>...</td>\n",
       "      <td>...</td>\n",
       "      <td>...</td>\n",
       "      <td>...</td>\n",
       "      <td>...</td>\n",
       "      <td>...</td>\n",
       "      <td>...</td>\n",
       "      <td>...</td>\n",
       "      <td>...</td>\n",
       "      <td>...</td>\n",
       "      <td>...</td>\n",
       "      <td>...</td>\n",
       "    </tr>\n",
       "    <tr>\n",
       "      <th>3198</th>\n",
       "      <td>CA-2013-125794</td>\n",
       "      <td>30-09-2013</td>\n",
       "      <td>04-10-2013</td>\n",
       "      <td>Maris LaWare</td>\n",
       "      <td>United States</td>\n",
       "      <td>Los Angeles</td>\n",
       "      <td>California</td>\n",
       "      <td>Accessories</td>\n",
       "      <td>Memorex Mini Travel Drive 64 GB USB 2.0 Flash ...</td>\n",
       "      <td>36.24</td>\n",
       "      <td>1.0</td>\n",
       "      <td>15.22</td>\n",
       "    </tr>\n",
       "    <tr>\n",
       "      <th>3199</th>\n",
       "      <td>CA-2014-121258</td>\n",
       "      <td>27-02-2014</td>\n",
       "      <td>04-03-2014</td>\n",
       "      <td>Dave Brooks</td>\n",
       "      <td>United States</td>\n",
       "      <td>Costa Mesa</td>\n",
       "      <td>California</td>\n",
       "      <td>Furnishings</td>\n",
       "      <td>Tenex B1-RE Series Chair Mats for Low Pile Car...</td>\n",
       "      <td>91.96</td>\n",
       "      <td>2.0</td>\n",
       "      <td>15.63</td>\n",
       "    </tr>\n",
       "    <tr>\n",
       "      <th>3200</th>\n",
       "      <td>CA-2014-121258</td>\n",
       "      <td>27-02-2014</td>\n",
       "      <td>04-03-2014</td>\n",
       "      <td>Dave Brooks</td>\n",
       "      <td>United States</td>\n",
       "      <td>Costa Mesa</td>\n",
       "      <td>California</td>\n",
       "      <td>Phones</td>\n",
       "      <td>Aastra 57i VoIP phone</td>\n",
       "      <td>258.58</td>\n",
       "      <td>2.0</td>\n",
       "      <td>19.39</td>\n",
       "    </tr>\n",
       "    <tr>\n",
       "      <th>3201</th>\n",
       "      <td>CA-2014-121258</td>\n",
       "      <td>27-02-2014</td>\n",
       "      <td>04-03-2014</td>\n",
       "      <td>Dave Brooks</td>\n",
       "      <td>United States</td>\n",
       "      <td>Costa Mesa</td>\n",
       "      <td>California</td>\n",
       "      <td>Paper</td>\n",
       "      <td>It's Hot Message Books with Stickers, 2 3/4\" x 5\"</td>\n",
       "      <td>29.60</td>\n",
       "      <td>4.0</td>\n",
       "      <td>13.32</td>\n",
       "    </tr>\n",
       "    <tr>\n",
       "      <th>3202</th>\n",
       "      <td>CA-2014-119914</td>\n",
       "      <td>05-05-2014</td>\n",
       "      <td>10-05-2014</td>\n",
       "      <td>Chris Cortes</td>\n",
       "      <td>United States</td>\n",
       "      <td>Westminster</td>\n",
       "      <td>California</td>\n",
       "      <td>Appliances</td>\n",
       "      <td>Acco 7-Outlet Masterpiece Power Center, Wihtou...</td>\n",
       "      <td>243.16</td>\n",
       "      <td>2.0</td>\n",
       "      <td>72.95</td>\n",
       "    </tr>\n",
       "  </tbody>\n",
       "</table>\n",
       "<p>3203 rows × 12 columns</p>\n",
       "</div>"
      ],
      "text/plain": [
       "            Order ID  Order Date   Ship Date    Customer Name        Country  \\\n",
       "0     CA-2013-138688  13-06-2013  17-06-2013  Darrin Van Huff  United States   \n",
       "1     CA-2011-115812  09-06-2011  14-06-2011  Brosina Hoffman  United States   \n",
       "2     CA-2011-115812  09-06-2011  14-06-2011  Brosina Hoffman  United States   \n",
       "3     CA-2011-115812  09-06-2011  14-06-2011  Brosina Hoffman  United States   \n",
       "4     CA-2011-115812  09-06-2011  14-06-2011  Brosina Hoffman  United States   \n",
       "...              ...         ...         ...              ...            ...   \n",
       "3198  CA-2013-125794  30-09-2013  04-10-2013     Maris LaWare  United States   \n",
       "3199  CA-2014-121258  27-02-2014  04-03-2014      Dave Brooks  United States   \n",
       "3200  CA-2014-121258  27-02-2014  04-03-2014      Dave Brooks  United States   \n",
       "3201  CA-2014-121258  27-02-2014  04-03-2014      Dave Brooks  United States   \n",
       "3202  CA-2014-119914  05-05-2014  10-05-2014     Chris Cortes  United States   \n",
       "\n",
       "             City       State     Category  \\\n",
       "0     Los Angeles  California       Labels   \n",
       "1     Los Angeles  California  Furnishings   \n",
       "2     Los Angeles  California          Art   \n",
       "3     Los Angeles  California       Phones   \n",
       "4     Los Angeles  California      Binders   \n",
       "...           ...         ...          ...   \n",
       "3198  Los Angeles  California  Accessories   \n",
       "3199   Costa Mesa  California  Furnishings   \n",
       "3200   Costa Mesa  California       Phones   \n",
       "3201   Costa Mesa  California        Paper   \n",
       "3202  Westminster  California   Appliances   \n",
       "\n",
       "                                           Product Name   Sales  Quantity  \\\n",
       "0     Self-Adhesive Address Labels for Typewriters b...   14.62       2.0   \n",
       "1     Eldon Expressions Wood and Plastic Desk Access...   48.86       7.0   \n",
       "2                                            Newell 322    7.28       4.0   \n",
       "3                        Mitel 5320 IP Phone VoIP phone  907.15       4.0   \n",
       "4     DXL Angle-View Binders with Locking Rings by S...   18.50       3.0   \n",
       "...                                                 ...     ...       ...   \n",
       "3198  Memorex Mini Travel Drive 64 GB USB 2.0 Flash ...   36.24       1.0   \n",
       "3199  Tenex B1-RE Series Chair Mats for Low Pile Car...   91.96       2.0   \n",
       "3200                              Aastra 57i VoIP phone  258.58       2.0   \n",
       "3201  It's Hot Message Books with Stickers, 2 3/4\" x 5\"   29.60       4.0   \n",
       "3202  Acco 7-Outlet Masterpiece Power Center, Wihtou...  243.16       2.0   \n",
       "\n",
       "      Profit  \n",
       "0       6.87  \n",
       "1      14.17  \n",
       "2       1.97  \n",
       "3      90.72  \n",
       "4       5.78  \n",
       "...      ...  \n",
       "3198   15.22  \n",
       "3199   15.63  \n",
       "3200   19.39  \n",
       "3201   13.32  \n",
       "3202   72.95  \n",
       "\n",
       "[3203 rows x 12 columns]"
      ]
     },
     "execution_count": 3,
     "metadata": {},
     "output_type": "execute_result"
    }
   ],
   "source": [
    "df"
   ]
  },
  {
   "cell_type": "markdown",
   "id": "bb6cf65f",
   "metadata": {
    "id": "TejpHJP8oBP1",
    "papermill": {
     "duration": 0.019182,
     "end_time": "2023-03-11T22:53:49.225564",
     "exception": false,
     "start_time": "2023-03-11T22:53:49.206382",
     "status": "completed"
    },
    "tags": []
   },
   "source": [
    "2-Vericando a quantidada de linhas e colunas."
   ]
  },
  {
   "cell_type": "code",
   "execution_count": 4,
   "id": "a9f84c73",
   "metadata": {
    "execution": {
     "iopub.execute_input": "2023-03-11T22:53:49.265550Z",
     "iopub.status.busy": "2023-03-11T22:53:49.264775Z",
     "iopub.status.idle": "2023-03-11T22:53:49.271246Z",
     "shell.execute_reply": "2023-03-11T22:53:49.270285Z"
    },
    "id": "FFji-tmBoEXi",
    "outputId": "48c692c7-e7ab-4353-a1ce-2f3c848bc47f",
    "papermill": {
     "duration": 0.028148,
     "end_time": "2023-03-11T22:53:49.273474",
     "exception": false,
     "start_time": "2023-03-11T22:53:49.245326",
     "status": "completed"
    },
    "tags": []
   },
   "outputs": [
    {
     "data": {
      "text/plain": [
       "(3203, 12)"
      ]
     },
     "execution_count": 4,
     "metadata": {},
     "output_type": "execute_result"
    }
   ],
   "source": [
    "df.shape"
   ]
  },
  {
   "cell_type": "markdown",
   "id": "e028941b",
   "metadata": {
    "id": "SjQXJd1OoG8e",
    "papermill": {
     "duration": 0.017633,
     "end_time": "2023-03-11T22:53:49.309054",
     "exception": false,
     "start_time": "2023-03-11T22:53:49.291421",
     "status": "completed"
    },
    "tags": []
   },
   "source": [
    "3-Verificando a quntidade de ID exclusivos ."
   ]
  },
  {
   "cell_type": "code",
   "execution_count": 5,
   "id": "19afd909",
   "metadata": {
    "execution": {
     "iopub.execute_input": "2023-03-11T22:53:49.348782Z",
     "iopub.status.busy": "2023-03-11T22:53:49.348014Z",
     "iopub.status.idle": "2023-03-11T22:53:49.364616Z",
     "shell.execute_reply": "2023-03-11T22:53:49.363475Z"
    },
    "id": "qNKdIEFToMgg",
    "outputId": "113432a2-0878-48eb-fb24-fab8aa7dff1f",
    "papermill": {
     "duration": 0.040095,
     "end_time": "2023-03-11T22:53:49.367185",
     "exception": false,
     "start_time": "2023-03-11T22:53:49.327090",
     "status": "completed"
    },
    "tags": []
   },
   "outputs": [
    {
     "data": {
      "text/plain": [
       "CA-2013-165330    11\n",
       "CA-2011-106439     9\n",
       "CA-2012-104346     9\n",
       "CA-2012-164882     9\n",
       "CA-2014-117457     9\n",
       "                  ..\n",
       "CA-2014-123701     1\n",
       "US-2011-167262     1\n",
       "CA-2014-108091     1\n",
       "CA-2012-144722     1\n",
       "CA-2014-119914     1\n",
       "Name: Order ID, Length: 1611, dtype: int64"
      ]
     },
     "execution_count": 5,
     "metadata": {},
     "output_type": "execute_result"
    }
   ],
   "source": [
    "df['Order ID'].value_counts()"
   ]
  },
  {
   "cell_type": "markdown",
   "id": "ebf0c0f6",
   "metadata": {
    "id": "K1ZduuDFoawj",
    "papermill": {
     "duration": 0.017745,
     "end_time": "2023-03-11T22:53:49.403612",
     "exception": false,
     "start_time": "2023-03-11T22:53:49.385867",
     "status": "completed"
    },
    "tags": []
   },
   "source": [
    "4-Existem uma certa quantidade de Ids exclusivos que possam estar duplicados."
   ]
  },
  {
   "cell_type": "code",
   "execution_count": 6,
   "id": "f3f6163d",
   "metadata": {
    "execution": {
     "iopub.execute_input": "2023-03-11T22:53:49.442382Z",
     "iopub.status.busy": "2023-03-11T22:53:49.441929Z",
     "iopub.status.idle": "2023-03-11T22:53:49.449413Z",
     "shell.execute_reply": "2023-03-11T22:53:49.448255Z"
    },
    "id": "E86sji3vohj1",
    "papermill": {
     "duration": 0.029999,
     "end_time": "2023-03-11T22:53:49.451755",
     "exception": false,
     "start_time": "2023-03-11T22:53:49.421756",
     "status": "completed"
    },
    "tags": []
   },
   "outputs": [],
   "source": [
    "id_duplicate=df['Order ID'].value_counts()"
   ]
  },
  {
   "cell_type": "code",
   "execution_count": 7,
   "id": "1b3347e6",
   "metadata": {
    "execution": {
     "iopub.execute_input": "2023-03-11T22:53:49.490801Z",
     "iopub.status.busy": "2023-03-11T22:53:49.490139Z",
     "iopub.status.idle": "2023-03-11T22:53:49.498317Z",
     "shell.execute_reply": "2023-03-11T22:53:49.497266Z"
    },
    "id": "00efv6BbonaT",
    "outputId": "e65b923a-e0b3-428f-8949-3913d2f5e4dd",
    "papermill": {
     "duration": 0.030156,
     "end_time": "2023-03-11T22:53:49.500524",
     "exception": false,
     "start_time": "2023-03-11T22:53:49.470368",
     "status": "completed"
    },
    "tags": []
   },
   "outputs": [
    {
     "data": {
      "text/plain": [
       "1     819\n",
       "2     396\n",
       "3     193\n",
       "4     105\n",
       "5      43\n",
       "6      24\n",
       "7      21\n",
       "8       5\n",
       "9       4\n",
       "11      1\n",
       "Name: Order ID, dtype: int64"
      ]
     },
     "execution_count": 7,
     "metadata": {},
     "output_type": "execute_result"
    }
   ],
   "source": [
    "id_duplicate.value_counts()"
   ]
  },
  {
   "cell_type": "markdown",
   "id": "ffc8c497",
   "metadata": {
    "id": "YXaAcZTiovQy",
    "papermill": {
     "duration": 0.017931,
     "end_time": "2023-03-11T22:53:49.536491",
     "exception": false,
     "start_time": "2023-03-11T22:53:49.518560",
     "status": "completed"
    },
    "tags": []
   },
   "source": [
    "5-Máscaras Booleanas"
   ]
  },
  {
   "cell_type": "code",
   "execution_count": 8,
   "id": "14c414cf",
   "metadata": {
    "execution": {
     "iopub.execute_input": "2023-03-11T22:53:49.575660Z",
     "iopub.status.busy": "2023-03-11T22:53:49.574650Z",
     "iopub.status.idle": "2023-03-11T22:53:49.580053Z",
     "shell.execute_reply": "2023-03-11T22:53:49.579095Z"
    },
    "id": "5coxcjO-oz-X",
    "papermill": {
     "duration": 0.027404,
     "end_time": "2023-03-11T22:53:49.582519",
     "exception": false,
     "start_time": "2023-03-11T22:53:49.555115",
     "status": "completed"
    },
    "tags": []
   },
   "outputs": [],
   "source": [
    "df_mask=id_duplicate==2"
   ]
  },
  {
   "cell_type": "code",
   "execution_count": 9,
   "id": "dcbe5fff",
   "metadata": {
    "execution": {
     "iopub.execute_input": "2023-03-11T22:53:49.621620Z",
     "iopub.status.busy": "2023-03-11T22:53:49.620935Z",
     "iopub.status.idle": "2023-03-11T22:53:49.627481Z",
     "shell.execute_reply": "2023-03-11T22:53:49.626330Z"
    },
    "id": "xFOpHux5o7Vf",
    "outputId": "12824043-2161-40d8-bfce-c1e89a6ed252",
    "papermill": {
     "duration": 0.028964,
     "end_time": "2023-03-11T22:53:49.629628",
     "exception": false,
     "start_time": "2023-03-11T22:53:49.600664",
     "status": "completed"
    },
    "tags": []
   },
   "outputs": [
    {
     "data": {
      "text/plain": [
       "396"
      ]
     },
     "execution_count": 9,
     "metadata": {},
     "output_type": "execute_result"
    }
   ],
   "source": [
    "sum(df_mask)"
   ]
  },
  {
   "cell_type": "markdown",
   "id": "edd0d1c8",
   "metadata": {
    "id": "ZJ5gSQropMLo",
    "papermill": {
     "duration": 0.018039,
     "end_time": "2023-03-11T22:53:49.666660",
     "exception": false,
     "start_time": "2023-03-11T22:53:49.648621",
     "status": "completed"
    },
    "tags": []
   },
   "source": [
    "6-Número  de Ids duplicados para contagem 2"
   ]
  },
  {
   "cell_type": "code",
   "execution_count": 10,
   "id": "833de590",
   "metadata": {
    "execution": {
     "iopub.execute_input": "2023-03-11T22:53:49.706718Z",
     "iopub.status.busy": "2023-03-11T22:53:49.706102Z",
     "iopub.status.idle": "2023-03-11T22:53:49.710445Z",
     "shell.execute_reply": "2023-03-11T22:53:49.709632Z"
    },
    "id": "Akc-ND-apTJL",
    "papermill": {
     "duration": 0.027235,
     "end_time": "2023-03-11T22:53:49.712528",
     "exception": false,
     "start_time": "2023-03-11T22:53:49.685293",
     "status": "completed"
    },
    "tags": []
   },
   "outputs": [],
   "source": [
    "df_feature=id_duplicate.index[df_mask]"
   ]
  },
  {
   "cell_type": "code",
   "execution_count": 11,
   "id": "3e70cb3b",
   "metadata": {
    "execution": {
     "iopub.execute_input": "2023-03-11T22:53:49.752505Z",
     "iopub.status.busy": "2023-03-11T22:53:49.751843Z",
     "iopub.status.idle": "2023-03-11T22:53:49.756390Z",
     "shell.execute_reply": "2023-03-11T22:53:49.755462Z"
    },
    "id": "zjVKpBg-pY9h",
    "papermill": {
     "duration": 0.027174,
     "end_time": "2023-03-11T22:53:49.758640",
     "exception": false,
     "start_time": "2023-03-11T22:53:49.731466",
     "status": "completed"
    },
    "tags": []
   },
   "outputs": [],
   "source": [
    "df_feature=list(df_feature)"
   ]
  },
  {
   "cell_type": "code",
   "execution_count": 12,
   "id": "1a5f73e1",
   "metadata": {
    "execution": {
     "iopub.execute_input": "2023-03-11T22:53:49.797633Z",
     "iopub.status.busy": "2023-03-11T22:53:49.797249Z",
     "iopub.status.idle": "2023-03-11T22:53:49.808764Z",
     "shell.execute_reply": "2023-03-11T22:53:49.807526Z"
    },
    "id": "v12roLb4pc2A",
    "outputId": "fa42ad68-ee4d-4d67-d313-2cfbb5a25306",
    "papermill": {
     "duration": 0.034019,
     "end_time": "2023-03-11T22:53:49.811202",
     "exception": false,
     "start_time": "2023-03-11T22:53:49.777183",
     "status": "completed"
    },
    "tags": []
   },
   "outputs": [
    {
     "data": {
      "text/plain": [
       "US-2014-155999    2\n",
       "US-2014-105998    2\n",
       "US-2013-168095    2\n",
       "CA-2013-140417    2\n",
       "CA-2011-138240    2\n",
       "                 ..\n",
       "CA-2013-165995    2\n",
       "CA-2012-165057    2\n",
       "CA-2012-148376    2\n",
       "CA-2012-151253    2\n",
       "US-2011-133130    2\n",
       "Name: Order ID, Length: 396, dtype: int64"
      ]
     },
     "execution_count": 12,
     "metadata": {},
     "output_type": "execute_result"
    }
   ],
   "source": [
    "id_duplicate[df_feature]"
   ]
  },
  {
   "cell_type": "code",
   "execution_count": 13,
   "id": "985b4f0d",
   "metadata": {
    "execution": {
     "iopub.execute_input": "2023-03-11T22:53:49.851654Z",
     "iopub.status.busy": "2023-03-11T22:53:49.850363Z",
     "iopub.status.idle": "2023-03-11T22:53:49.858246Z",
     "shell.execute_reply": "2023-03-11T22:53:49.857241Z"
    },
    "id": "tr9wEh2cpjfY",
    "outputId": "f70479b6-32a7-45db-a34d-3b3683f37bd2",
    "papermill": {
     "duration": 0.030534,
     "end_time": "2023-03-11T22:53:49.860600",
     "exception": false,
     "start_time": "2023-03-11T22:53:49.830066",
     "status": "completed"
    },
    "tags": []
   },
   "outputs": [
    {
     "data": {
      "text/plain": [
       "['US-2014-155999', 'US-2014-105998', 'US-2013-168095']"
      ]
     },
     "execution_count": 13,
     "metadata": {},
     "output_type": "execute_result"
    }
   ],
   "source": [
    "df_feature[0:3]"
   ]
  },
  {
   "cell_type": "markdown",
   "id": "3f208f81",
   "metadata": {
    "id": "lnZV864TppYz",
    "papermill": {
     "duration": 0.018521,
     "end_time": "2023-03-11T22:53:49.897928",
     "exception": false,
     "start_time": "2023-03-11T22:53:49.879407",
     "status": "completed"
    },
    "tags": []
   },
   "source": [
    "8-Identificando os ids duplicados."
   ]
  },
  {
   "cell_type": "code",
   "execution_count": 14,
   "id": "9f6083fd",
   "metadata": {
    "execution": {
     "iopub.execute_input": "2023-03-11T22:53:49.939930Z",
     "iopub.status.busy": "2023-03-11T22:53:49.938833Z",
     "iopub.status.idle": "2023-03-11T22:53:49.960301Z",
     "shell.execute_reply": "2023-03-11T22:53:49.959053Z"
    },
    "id": "db5yXBXvpucO",
    "outputId": "bea9b7b9-a0d8-4d49-904a-3226e5b7179e",
    "papermill": {
     "duration": 0.046236,
     "end_time": "2023-03-11T22:53:49.963054",
     "exception": false,
     "start_time": "2023-03-11T22:53:49.916818",
     "status": "completed"
    },
    "tags": []
   },
   "outputs": [
    {
     "data": {
      "text/html": [
       "<div>\n",
       "<style scoped>\n",
       "    .dataframe tbody tr th:only-of-type {\n",
       "        vertical-align: middle;\n",
       "    }\n",
       "\n",
       "    .dataframe tbody tr th {\n",
       "        vertical-align: top;\n",
       "    }\n",
       "\n",
       "    .dataframe thead th {\n",
       "        text-align: right;\n",
       "    }\n",
       "</style>\n",
       "<table border=\"1\" class=\"dataframe\">\n",
       "  <thead>\n",
       "    <tr style=\"text-align: right;\">\n",
       "      <th></th>\n",
       "      <th>Order ID</th>\n",
       "      <th>Order Date</th>\n",
       "      <th>Ship Date</th>\n",
       "      <th>Customer Name</th>\n",
       "      <th>Country</th>\n",
       "      <th>City</th>\n",
       "      <th>State</th>\n",
       "      <th>Category</th>\n",
       "      <th>Product Name</th>\n",
       "      <th>Sales</th>\n",
       "      <th>Quantity</th>\n",
       "      <th>Profit</th>\n",
       "    </tr>\n",
       "  </thead>\n",
       "  <tbody>\n",
       "    <tr>\n",
       "      <th>1281</th>\n",
       "      <td>CA-2013-140417</td>\n",
       "      <td>26-09-2013</td>\n",
       "      <td>30-09-2013</td>\n",
       "      <td>Katrina Edelman</td>\n",
       "      <td>United States</td>\n",
       "      <td>Tigard</td>\n",
       "      <td>Oregon</td>\n",
       "      <td>Paper</td>\n",
       "      <td>REDIFORM Incoming/Outgoing Call Register, 11\" ...</td>\n",
       "      <td>60.05</td>\n",
       "      <td>9.0</td>\n",
       "      <td>22.52</td>\n",
       "    </tr>\n",
       "    <tr>\n",
       "      <th>1282</th>\n",
       "      <td>CA-2013-140417</td>\n",
       "      <td>26-09-2013</td>\n",
       "      <td>30-09-2013</td>\n",
       "      <td>Katrina Edelman</td>\n",
       "      <td>United States</td>\n",
       "      <td>Tigard</td>\n",
       "      <td>Oregon</td>\n",
       "      <td>Binders</td>\n",
       "      <td>GBC Poly Designer Binding Covers</td>\n",
       "      <td>5.02</td>\n",
       "      <td>1.0</td>\n",
       "      <td>-3.52</td>\n",
       "    </tr>\n",
       "    <tr>\n",
       "      <th>1287</th>\n",
       "      <td>US-2014-155999</td>\n",
       "      <td>08-08-2014</td>\n",
       "      <td>14-08-2014</td>\n",
       "      <td>Jay Kimmel</td>\n",
       "      <td>United States</td>\n",
       "      <td>San Diego</td>\n",
       "      <td>California</td>\n",
       "      <td>Phones</td>\n",
       "      <td>GE DSL Phone Line Filter</td>\n",
       "      <td>159.96</td>\n",
       "      <td>5.0</td>\n",
       "      <td>18.00</td>\n",
       "    </tr>\n",
       "    <tr>\n",
       "      <th>1288</th>\n",
       "      <td>US-2014-155999</td>\n",
       "      <td>08-08-2014</td>\n",
       "      <td>14-08-2014</td>\n",
       "      <td>Jay Kimmel</td>\n",
       "      <td>United States</td>\n",
       "      <td>San Diego</td>\n",
       "      <td>California</td>\n",
       "      <td>Binders</td>\n",
       "      <td>Avery Printable Repositionable Plastic Tabs</td>\n",
       "      <td>13.76</td>\n",
       "      <td>2.0</td>\n",
       "      <td>4.64</td>\n",
       "    </tr>\n",
       "    <tr>\n",
       "      <th>2575</th>\n",
       "      <td>US-2013-168095</td>\n",
       "      <td>16-07-2013</td>\n",
       "      <td>21-07-2013</td>\n",
       "      <td>Mark Cousins</td>\n",
       "      <td>United States</td>\n",
       "      <td>Portland</td>\n",
       "      <td>Oregon</td>\n",
       "      <td>Chairs</td>\n",
       "      <td>Bevis Steel Folding Chairs</td>\n",
       "      <td>230.28</td>\n",
       "      <td>3.0</td>\n",
       "      <td>23.03</td>\n",
       "    </tr>\n",
       "  </tbody>\n",
       "</table>\n",
       "</div>"
      ],
      "text/plain": [
       "            Order ID  Order Date   Ship Date    Customer Name        Country  \\\n",
       "1281  CA-2013-140417  26-09-2013  30-09-2013  Katrina Edelman  United States   \n",
       "1282  CA-2013-140417  26-09-2013  30-09-2013  Katrina Edelman  United States   \n",
       "1287  US-2014-155999  08-08-2014  14-08-2014       Jay Kimmel  United States   \n",
       "1288  US-2014-155999  08-08-2014  14-08-2014       Jay Kimmel  United States   \n",
       "2575  US-2013-168095  16-07-2013  21-07-2013     Mark Cousins  United States   \n",
       "\n",
       "           City       State Category  \\\n",
       "1281     Tigard      Oregon    Paper   \n",
       "1282     Tigard      Oregon  Binders   \n",
       "1287  San Diego  California   Phones   \n",
       "1288  San Diego  California  Binders   \n",
       "2575   Portland      Oregon   Chairs   \n",
       "\n",
       "                                           Product Name   Sales  Quantity  \\\n",
       "1281  REDIFORM Incoming/Outgoing Call Register, 11\" ...   60.05       9.0   \n",
       "1282                   GBC Poly Designer Binding Covers    5.02       1.0   \n",
       "1287                           GE DSL Phone Line Filter  159.96       5.0   \n",
       "1288        Avery Printable Repositionable Plastic Tabs   13.76       2.0   \n",
       "2575                         Bevis Steel Folding Chairs  230.28       3.0   \n",
       "\n",
       "      Profit  \n",
       "1281   22.52  \n",
       "1282   -3.52  \n",
       "1287   18.00  \n",
       "1288    4.64  \n",
       "2575   23.03  "
      ]
     },
     "execution_count": 14,
     "metadata": {},
     "output_type": "execute_result"
    }
   ],
   "source": [
    "df.loc[df['Order ID'].isin(df_feature[0:5]),:].head(5)"
   ]
  },
  {
   "cell_type": "code",
   "execution_count": 15,
   "id": "f03b5669",
   "metadata": {
    "execution": {
     "iopub.execute_input": "2023-03-11T22:53:50.003584Z",
     "iopub.status.busy": "2023-03-11T22:53:50.002851Z",
     "iopub.status.idle": "2023-03-11T22:53:50.030315Z",
     "shell.execute_reply": "2023-03-11T22:53:50.029024Z"
    },
    "id": "R8YMp8fRp8s4",
    "outputId": "3e277a2e-0630-409a-e269-f2c293d4f15e",
    "papermill": {
     "duration": 0.050856,
     "end_time": "2023-03-11T22:53:50.032983",
     "exception": false,
     "start_time": "2023-03-11T22:53:49.982127",
     "status": "completed"
    },
    "tags": []
   },
   "outputs": [
    {
     "data": {
      "text/html": [
       "<div>\n",
       "<style scoped>\n",
       "    .dataframe tbody tr th:only-of-type {\n",
       "        vertical-align: middle;\n",
       "    }\n",
       "\n",
       "    .dataframe tbody tr th {\n",
       "        vertical-align: top;\n",
       "    }\n",
       "\n",
       "    .dataframe thead th {\n",
       "        text-align: right;\n",
       "    }\n",
       "</style>\n",
       "<table border=\"1\" class=\"dataframe\">\n",
       "  <thead>\n",
       "    <tr style=\"text-align: right;\">\n",
       "      <th></th>\n",
       "      <th>Order ID</th>\n",
       "      <th>Order Date</th>\n",
       "      <th>Ship Date</th>\n",
       "      <th>Customer Name</th>\n",
       "      <th>Country</th>\n",
       "      <th>City</th>\n",
       "      <th>State</th>\n",
       "      <th>Category</th>\n",
       "      <th>Product Name</th>\n",
       "      <th>Sales</th>\n",
       "      <th>Quantity</th>\n",
       "      <th>Profit</th>\n",
       "    </tr>\n",
       "  </thead>\n",
       "  <tbody>\n",
       "    <tr>\n",
       "      <th>910</th>\n",
       "      <td>US-2014-103828</td>\n",
       "      <td>14-08-2014</td>\n",
       "      <td>14-08-2014</td>\n",
       "      <td>Jay Kimmel</td>\n",
       "      <td>United States</td>\n",
       "      <td>San Francisco</td>\n",
       "      <td>California</td>\n",
       "      <td>Supplies</td>\n",
       "      <td>Staples</td>\n",
       "      <td>31.92</td>\n",
       "      <td>4.0</td>\n",
       "      <td>9.26</td>\n",
       "    </tr>\n",
       "    <tr>\n",
       "      <th>2523</th>\n",
       "      <td>CA-2011-166961</td>\n",
       "      <td>27-12-2011</td>\n",
       "      <td>31-12-2011</td>\n",
       "      <td>Cynthia Delaney</td>\n",
       "      <td>United States</td>\n",
       "      <td>Moreno Valley</td>\n",
       "      <td>California</td>\n",
       "      <td>Fasteners</td>\n",
       "      <td>Staples</td>\n",
       "      <td>7.86</td>\n",
       "      <td>3.0</td>\n",
       "      <td>3.62</td>\n",
       "    </tr>\n",
       "    <tr>\n",
       "      <th>2562</th>\n",
       "      <td>CA-2014-118017</td>\n",
       "      <td>04-12-2014</td>\n",
       "      <td>07-12-2014</td>\n",
       "      <td>Lena Cacioppo</td>\n",
       "      <td>United States</td>\n",
       "      <td>Thornton</td>\n",
       "      <td>Colorado</td>\n",
       "      <td>Accessories</td>\n",
       "      <td>Memorex Micro Travel Drive 16 GB</td>\n",
       "      <td>102.34</td>\n",
       "      <td>8.0</td>\n",
       "      <td>14.07</td>\n",
       "    </tr>\n",
       "  </tbody>\n",
       "</table>\n",
       "</div>"
      ],
      "text/plain": [
       "            Order ID  Order Date   Ship Date    Customer Name        Country  \\\n",
       "910   US-2014-103828  14-08-2014  14-08-2014       Jay Kimmel  United States   \n",
       "2523  CA-2011-166961  27-12-2011  31-12-2011  Cynthia Delaney  United States   \n",
       "2562  CA-2014-118017  04-12-2014  07-12-2014    Lena Cacioppo  United States   \n",
       "\n",
       "               City       State     Category  \\\n",
       "910   San Francisco  California     Supplies   \n",
       "2523  Moreno Valley  California    Fasteners   \n",
       "2562       Thornton    Colorado  Accessories   \n",
       "\n",
       "                          Product Name   Sales  Quantity  Profit  \n",
       "910                            Staples   31.92       4.0    9.26  \n",
       "2523                           Staples    7.86       3.0    3.62  \n",
       "2562  Memorex Micro Travel Drive 16 GB  102.34       8.0   14.07  "
      ]
     },
     "execution_count": 15,
     "metadata": {},
     "output_type": "execute_result"
    }
   ],
   "source": [
    "df\n",
    "df.loc[df.duplicated(subset=['Order ID','Order Date','Ship Date','Customer Name','Country','City','State','Product Name'])]"
   ]
  },
  {
   "cell_type": "markdown",
   "id": "efdb533d",
   "metadata": {
    "id": "jxepjn9QqVm5",
    "papermill": {
     "duration": 0.019805,
     "end_time": "2023-03-11T22:53:50.073286",
     "exception": false,
     "start_time": "2023-03-11T22:53:50.053481",
     "status": "completed"
    },
    "tags": []
   },
   "source": [
    "9-Nota:Certamente existem ids duplicados , porém não completamente , existem clientes que efecturam a compra mas , com quantidades diferentes."
   ]
  },
  {
   "cell_type": "markdown",
   "id": "051059a4",
   "metadata": {
    "id": "dC8XRhFsqobb",
    "papermill": {
     "duration": 0.019027,
     "end_time": "2023-03-11T22:53:50.111683",
     "exception": false,
     "start_time": "2023-03-11T22:53:50.092656",
     "status": "completed"
    },
    "tags": []
   },
   "source": [
    "10-Procurando por dados  nulos."
   ]
  },
  {
   "cell_type": "code",
   "execution_count": 16,
   "id": "9d310cc4",
   "metadata": {
    "execution": {
     "iopub.execute_input": "2023-03-11T22:53:50.153852Z",
     "iopub.status.busy": "2023-03-11T22:53:50.153012Z",
     "iopub.status.idle": "2023-03-11T22:53:50.172448Z",
     "shell.execute_reply": "2023-03-11T22:53:50.170601Z"
    },
    "id": "S3vBqN2Tqxxd",
    "outputId": "8fae94aa-590e-4e70-9f81-5a78e125c173",
    "papermill": {
     "duration": 0.044095,
     "end_time": "2023-03-11T22:53:50.175782",
     "exception": false,
     "start_time": "2023-03-11T22:53:50.131687",
     "status": "completed"
    },
    "tags": []
   },
   "outputs": [
    {
     "name": "stdout",
     "output_type": "stream",
     "text": [
      "<class 'pandas.core.frame.DataFrame'>\n",
      "RangeIndex: 3203 entries, 0 to 3202\n",
      "Data columns (total 12 columns):\n",
      " #   Column         Non-Null Count  Dtype  \n",
      "---  ------         --------------  -----  \n",
      " 0   Order ID       3203 non-null   object \n",
      " 1   Order Date     3203 non-null   object \n",
      " 2   Ship Date      3203 non-null   object \n",
      " 3   Customer Name  3203 non-null   object \n",
      " 4   Country        3203 non-null   object \n",
      " 5   City           3203 non-null   object \n",
      " 6   State          3203 non-null   object \n",
      " 7   Category       3203 non-null   object \n",
      " 8   Product Name   3203 non-null   object \n",
      " 9   Sales          3203 non-null   float64\n",
      " 10  Quantity       3203 non-null   float64\n",
      " 11  Profit         3203 non-null   float64\n",
      "dtypes: float64(3), object(9)\n",
      "memory usage: 300.4+ KB\n"
     ]
    }
   ],
   "source": [
    "df.info()"
   ]
  },
  {
   "cell_type": "code",
   "execution_count": 17,
   "id": "d64b1a6c",
   "metadata": {
    "execution": {
     "iopub.execute_input": "2023-03-11T22:53:50.218508Z",
     "iopub.status.busy": "2023-03-11T22:53:50.217747Z",
     "iopub.status.idle": "2023-03-11T22:53:50.229612Z",
     "shell.execute_reply": "2023-03-11T22:53:50.228328Z"
    },
    "id": "Pap41zwkq0Vc",
    "outputId": "ad6a618d-c54e-43d3-f5d4-14a1d1a3b822",
    "papermill": {
     "duration": 0.036526,
     "end_time": "2023-03-11T22:53:50.232460",
     "exception": false,
     "start_time": "2023-03-11T22:53:50.195934",
     "status": "completed"
    },
    "tags": []
   },
   "outputs": [
    {
     "data": {
      "text/plain": [
       "Order ID         0\n",
       "Order Date       0\n",
       "Ship Date        0\n",
       "Customer Name    0\n",
       "Country          0\n",
       "City             0\n",
       "State            0\n",
       "Category         0\n",
       "Product Name     0\n",
       "Sales            0\n",
       "Quantity         0\n",
       "Profit           0\n",
       "dtype: int64"
      ]
     },
     "execution_count": 17,
     "metadata": {},
     "output_type": "execute_result"
    }
   ],
   "source": [
    "df.isna().sum()"
   ]
  },
  {
   "cell_type": "markdown",
   "id": "4e7d042a",
   "metadata": {
    "id": "5XkFaacsq24c",
    "papermill": {
     "duration": 0.020119,
     "end_time": "2023-03-11T22:53:50.273208",
     "exception": false,
     "start_time": "2023-03-11T22:53:50.253089",
     "status": "completed"
    },
    "tags": []
   },
   "source": [
    "11-Não existem dados nulos ."
   ]
  },
  {
   "cell_type": "code",
   "execution_count": 18,
   "id": "c493c87a",
   "metadata": {
    "execution": {
     "iopub.execute_input": "2023-03-11T22:53:50.315102Z",
     "iopub.status.busy": "2023-03-11T22:53:50.314653Z",
     "iopub.status.idle": "2023-03-11T22:53:51.997330Z",
     "shell.execute_reply": "2023-03-11T22:53:51.995903Z"
    },
    "id": "hKDl2uvfq505",
    "outputId": "3dc33673-551d-4915-920d-448720f1ba7b",
    "papermill": {
     "duration": 1.707025,
     "end_time": "2023-03-11T22:53:52.000121",
     "exception": false,
     "start_time": "2023-03-11T22:53:50.293096",
     "status": "completed"
    },
    "tags": []
   },
   "outputs": [
    {
     "data": {
      "image/png": "[encoded data removed]",
      "text/plain": [
       "<Figure size 600x400 with 2 Axes>"
      ]
     },
     "metadata": {},
     "output_type": "display_data"
    }
   ],
   "source": [
    "import missingno as msno\n",
    "ax=msno.matrix(df, figsize=(6,4))"
   ]
  },
  {
   "cell_type": "code",
   "execution_count": 19,
   "id": "520b4ed1",
   "metadata": {
    "execution": {
     "iopub.execute_input": "2023-03-11T22:53:52.046852Z",
     "iopub.status.busy": "2023-03-11T22:53:52.046184Z",
     "iopub.status.idle": "2023-03-11T22:53:52.370624Z",
     "shell.execute_reply": "2023-03-11T22:53:52.369369Z"
    },
    "id": "x8PPAM6SrhAZ",
    "outputId": "5ea479eb-d5d9-4d6a-f724-449e19d7c08c",
    "papermill": {
     "duration": 0.351293,
     "end_time": "2023-03-11T22:53:52.373215",
     "exception": false,
     "start_time": "2023-03-11T22:53:52.021922",
     "status": "completed"
    },
    "tags": []
   },
   "outputs": [
    {
     "data": {
      "text/plain": [
       "<AxesSubplot:>"
      ]
     },
     "execution_count": 19,
     "metadata": {},
     "output_type": "execute_result"
    },
    {
     "data": {
      "image/png": "[encoded data removed]",
      "text/plain": [
       "<Figure size 600x400 with 1 Axes>"
      ]
     },
     "metadata": {},
     "output_type": "display_data"
    }
   ],
   "source": [
    "fig , ax =plt.subplots(figsize=(6,4))\n",
    "(1-df.isnull().mean()).abs().plot.bar(ax=ax)"
   ]
  },
  {
   "cell_type": "markdown",
   "id": "134b6f16",
   "metadata": {
    "id": "iwSuhGOusPSz",
    "papermill": {
     "duration": 0.020982,
     "end_time": "2023-03-11T22:53:52.415866",
     "exception": false,
     "start_time": "2023-03-11T22:53:52.394884",
     "status": "completed"
    },
    "tags": []
   },
   "source": [
    "12-Verificando se existe dados duplicados no dataset"
   ]
  },
  {
   "cell_type": "code",
   "execution_count": 20,
   "id": "1ab8a55e",
   "metadata": {
    "execution": {
     "iopub.execute_input": "2023-03-11T22:53:52.461256Z",
     "iopub.status.busy": "2023-03-11T22:53:52.460816Z",
     "iopub.status.idle": "2023-03-11T22:53:52.475527Z",
     "shell.execute_reply": "2023-03-11T22:53:52.474498Z"
    },
    "id": "4udJA6RBsVYl",
    "outputId": "8c822819-4b4d-4fb1-80e2-7911d9c17152",
    "papermill": {
     "duration": 0.039836,
     "end_time": "2023-03-11T22:53:52.477870",
     "exception": false,
     "start_time": "2023-03-11T22:53:52.438034",
     "status": "completed"
    },
    "tags": []
   },
   "outputs": [
    {
     "data": {
      "text/plain": [
       "0"
      ]
     },
     "execution_count": 20,
     "metadata": {},
     "output_type": "execute_result"
    }
   ],
   "source": [
    "df.duplicated().sum()"
   ]
  },
  {
   "cell_type": "markdown",
   "id": "0a1f5bb3",
   "metadata": {
    "id": "BNm2rM8mscac",
    "papermill": {
     "duration": 0.021015,
     "end_time": "2023-03-11T22:53:52.520215",
     "exception": false,
     "start_time": "2023-03-11T22:53:52.499200",
     "status": "completed"
    },
    "tags": []
   },
   "source": [
    "13-Não existem dados duplicados."
   ]
  },
  {
   "cell_type": "markdown",
   "id": "705792e3",
   "metadata": {
    "id": "sfiK6Xnhskzv",
    "papermill": {
     "duration": 0.021001,
     "end_time": "2023-03-11T22:53:52.562774",
     "exception": false,
     "start_time": "2023-03-11T22:53:52.541773",
     "status": "completed"
    },
    "tags": []
   },
   "source": [
    "# Exploração dos dados na categorias númericas"
   ]
  },
  {
   "cell_type": "code",
   "execution_count": 21,
   "id": "03c55d64",
   "metadata": {
    "execution": {
     "iopub.execute_input": "2023-03-11T22:53:52.607233Z",
     "iopub.status.busy": "2023-03-11T22:53:52.606790Z",
     "iopub.status.idle": "2023-03-11T22:53:52.631486Z",
     "shell.execute_reply": "2023-03-11T22:53:52.629945Z"
    },
    "id": "eSyZgi5jsru6",
    "outputId": "b24eea79-8a45-432f-d890-1858aeb39b38",
    "papermill": {
     "duration": 0.050029,
     "end_time": "2023-03-11T22:53:52.634113",
     "exception": false,
     "start_time": "2023-03-11T22:53:52.584084",
     "status": "completed"
    },
    "tags": []
   },
   "outputs": [
    {
     "data": {
      "text/html": [
       "<div>\n",
       "<style scoped>\n",
       "    .dataframe tbody tr th:only-of-type {\n",
       "        vertical-align: middle;\n",
       "    }\n",
       "\n",
       "    .dataframe tbody tr th {\n",
       "        vertical-align: top;\n",
       "    }\n",
       "\n",
       "    .dataframe thead th {\n",
       "        text-align: right;\n",
       "    }\n",
       "</style>\n",
       "<table border=\"1\" class=\"dataframe\">\n",
       "  <thead>\n",
       "    <tr style=\"text-align: right;\">\n",
       "      <th></th>\n",
       "      <th>Order ID</th>\n",
       "      <th>Order Date</th>\n",
       "      <th>Ship Date</th>\n",
       "      <th>Customer Name</th>\n",
       "      <th>Country</th>\n",
       "      <th>City</th>\n",
       "      <th>State</th>\n",
       "      <th>Category</th>\n",
       "      <th>Product Name</th>\n",
       "      <th>Sales</th>\n",
       "      <th>Quantity</th>\n",
       "      <th>Profit</th>\n",
       "    </tr>\n",
       "  </thead>\n",
       "  <tbody>\n",
       "    <tr>\n",
       "      <th>0</th>\n",
       "      <td>CA-2013-138688</td>\n",
       "      <td>13-06-2013</td>\n",
       "      <td>17-06-2013</td>\n",
       "      <td>Darrin Van Huff</td>\n",
       "      <td>United States</td>\n",
       "      <td>Los Angeles</td>\n",
       "      <td>California</td>\n",
       "      <td>Labels</td>\n",
       "      <td>Self-Adhesive Address Labels for Typewriters b...</td>\n",
       "      <td>14.62</td>\n",
       "      <td>2.0</td>\n",
       "      <td>6.87</td>\n",
       "    </tr>\n",
       "    <tr>\n",
       "      <th>1</th>\n",
       "      <td>CA-2011-115812</td>\n",
       "      <td>09-06-2011</td>\n",
       "      <td>14-06-2011</td>\n",
       "      <td>Brosina Hoffman</td>\n",
       "      <td>United States</td>\n",
       "      <td>Los Angeles</td>\n",
       "      <td>California</td>\n",
       "      <td>Furnishings</td>\n",
       "      <td>Eldon Expressions Wood and Plastic Desk Access...</td>\n",
       "      <td>48.86</td>\n",
       "      <td>7.0</td>\n",
       "      <td>14.17</td>\n",
       "    </tr>\n",
       "    <tr>\n",
       "      <th>2</th>\n",
       "      <td>CA-2011-115812</td>\n",
       "      <td>09-06-2011</td>\n",
       "      <td>14-06-2011</td>\n",
       "      <td>Brosina Hoffman</td>\n",
       "      <td>United States</td>\n",
       "      <td>Los Angeles</td>\n",
       "      <td>California</td>\n",
       "      <td>Art</td>\n",
       "      <td>Newell 322</td>\n",
       "      <td>7.28</td>\n",
       "      <td>4.0</td>\n",
       "      <td>1.97</td>\n",
       "    </tr>\n",
       "    <tr>\n",
       "      <th>3</th>\n",
       "      <td>CA-2011-115812</td>\n",
       "      <td>09-06-2011</td>\n",
       "      <td>14-06-2011</td>\n",
       "      <td>Brosina Hoffman</td>\n",
       "      <td>United States</td>\n",
       "      <td>Los Angeles</td>\n",
       "      <td>California</td>\n",
       "      <td>Phones</td>\n",
       "      <td>Mitel 5320 IP Phone VoIP phone</td>\n",
       "      <td>907.15</td>\n",
       "      <td>4.0</td>\n",
       "      <td>90.72</td>\n",
       "    </tr>\n",
       "    <tr>\n",
       "      <th>4</th>\n",
       "      <td>CA-2011-115812</td>\n",
       "      <td>09-06-2011</td>\n",
       "      <td>14-06-2011</td>\n",
       "      <td>Brosina Hoffman</td>\n",
       "      <td>United States</td>\n",
       "      <td>Los Angeles</td>\n",
       "      <td>California</td>\n",
       "      <td>Binders</td>\n",
       "      <td>DXL Angle-View Binders with Locking Rings by S...</td>\n",
       "      <td>18.50</td>\n",
       "      <td>3.0</td>\n",
       "      <td>5.78</td>\n",
       "    </tr>\n",
       "    <tr>\n",
       "      <th>...</th>\n",
       "      <td>...</td>\n",
       "      <td>...</td>\n",
       "      <td>...</td>\n",
       "      <td>...</td>\n",
       "      <td>...</td>\n",
       "      <td>...</td>\n",
       "      <td>...</td>\n",
       "      <td>...</td>\n",
       "      <td>...</td>\n",
       "      <td>...</td>\n",
       "      <td>...</td>\n",
       "      <td>...</td>\n",
       "    </tr>\n",
       "    <tr>\n",
       "      <th>3198</th>\n",
       "      <td>CA-2013-125794</td>\n",
       "      <td>30-09-2013</td>\n",
       "      <td>04-10-2013</td>\n",
       "      <td>Maris LaWare</td>\n",
       "      <td>United States</td>\n",
       "      <td>Los Angeles</td>\n",
       "      <td>California</td>\n",
       "      <td>Accessories</td>\n",
       "      <td>Memorex Mini Travel Drive 64 GB USB 2.0 Flash ...</td>\n",
       "      <td>36.24</td>\n",
       "      <td>1.0</td>\n",
       "      <td>15.22</td>\n",
       "    </tr>\n",
       "    <tr>\n",
       "      <th>3199</th>\n",
       "      <td>CA-2014-121258</td>\n",
       "      <td>27-02-2014</td>\n",
       "      <td>04-03-2014</td>\n",
       "      <td>Dave Brooks</td>\n",
       "      <td>United States</td>\n",
       "      <td>Costa Mesa</td>\n",
       "      <td>California</td>\n",
       "      <td>Furnishings</td>\n",
       "      <td>Tenex B1-RE Series Chair Mats for Low Pile Car...</td>\n",
       "      <td>91.96</td>\n",
       "      <td>2.0</td>\n",
       "      <td>15.63</td>\n",
       "    </tr>\n",
       "    <tr>\n",
       "      <th>3200</th>\n",
       "      <td>CA-2014-121258</td>\n",
       "      <td>27-02-2014</td>\n",
       "      <td>04-03-2014</td>\n",
       "      <td>Dave Brooks</td>\n",
       "      <td>United States</td>\n",
       "      <td>Costa Mesa</td>\n",
       "      <td>California</td>\n",
       "      <td>Phones</td>\n",
       "      <td>Aastra 57i VoIP phone</td>\n",
       "      <td>258.58</td>\n",
       "      <td>2.0</td>\n",
       "      <td>19.39</td>\n",
       "    </tr>\n",
       "    <tr>\n",
       "      <th>3201</th>\n",
       "      <td>CA-2014-121258</td>\n",
       "      <td>27-02-2014</td>\n",
       "      <td>04-03-2014</td>\n",
       "      <td>Dave Brooks</td>\n",
       "      <td>United States</td>\n",
       "      <td>Costa Mesa</td>\n",
       "      <td>California</td>\n",
       "      <td>Paper</td>\n",
       "      <td>It's Hot Message Books with Stickers, 2 3/4\" x 5\"</td>\n",
       "      <td>29.60</td>\n",
       "      <td>4.0</td>\n",
       "      <td>13.32</td>\n",
       "    </tr>\n",
       "    <tr>\n",
       "      <th>3202</th>\n",
       "      <td>CA-2014-119914</td>\n",
       "      <td>05-05-2014</td>\n",
       "      <td>10-05-2014</td>\n",
       "      <td>Chris Cortes</td>\n",
       "      <td>United States</td>\n",
       "      <td>Westminster</td>\n",
       "      <td>California</td>\n",
       "      <td>Appliances</td>\n",
       "      <td>Acco 7-Outlet Masterpiece Power Center, Wihtou...</td>\n",
       "      <td>243.16</td>\n",
       "      <td>2.0</td>\n",
       "      <td>72.95</td>\n",
       "    </tr>\n",
       "  </tbody>\n",
       "</table>\n",
       "<p>3203 rows × 12 columns</p>\n",
       "</div>"
      ],
      "text/plain": [
       "            Order ID  Order Date   Ship Date    Customer Name        Country  \\\n",
       "0     CA-2013-138688  13-06-2013  17-06-2013  Darrin Van Huff  United States   \n",
       "1     CA-2011-115812  09-06-2011  14-06-2011  Brosina Hoffman  United States   \n",
       "2     CA-2011-115812  09-06-2011  14-06-2011  Brosina Hoffman  United States   \n",
       "3     CA-2011-115812  09-06-2011  14-06-2011  Brosina Hoffman  United States   \n",
       "4     CA-2011-115812  09-06-2011  14-06-2011  Brosina Hoffman  United States   \n",
       "...              ...         ...         ...              ...            ...   \n",
       "3198  CA-2013-125794  30-09-2013  04-10-2013     Maris LaWare  United States   \n",
       "3199  CA-2014-121258  27-02-2014  04-03-2014      Dave Brooks  United States   \n",
       "3200  CA-2014-121258  27-02-2014  04-03-2014      Dave Brooks  United States   \n",
       "3201  CA-2014-121258  27-02-2014  04-03-2014      Dave Brooks  United States   \n",
       "3202  CA-2014-119914  05-05-2014  10-05-2014     Chris Cortes  United States   \n",
       "\n",
       "             City       State     Category  \\\n",
       "0     Los Angeles  California       Labels   \n",
       "1     Los Angeles  California  Furnishings   \n",
       "2     Los Angeles  California          Art   \n",
       "3     Los Angeles  California       Phones   \n",
       "4     Los Angeles  California      Binders   \n",
       "...           ...         ...          ...   \n",
       "3198  Los Angeles  California  Accessories   \n",
       "3199   Costa Mesa  California  Furnishings   \n",
       "3200   Costa Mesa  California       Phones   \n",
       "3201   Costa Mesa  California        Paper   \n",
       "3202  Westminster  California   Appliances   \n",
       "\n",
       "                                           Product Name   Sales  Quantity  \\\n",
       "0     Self-Adhesive Address Labels for Typewriters b...   14.62       2.0   \n",
       "1     Eldon Expressions Wood and Plastic Desk Access...   48.86       7.0   \n",
       "2                                            Newell 322    7.28       4.0   \n",
       "3                        Mitel 5320 IP Phone VoIP phone  907.15       4.0   \n",
       "4     DXL Angle-View Binders with Locking Rings by S...   18.50       3.0   \n",
       "...                                                 ...     ...       ...   \n",
       "3198  Memorex Mini Travel Drive 64 GB USB 2.0 Flash ...   36.24       1.0   \n",
       "3199  Tenex B1-RE Series Chair Mats for Low Pile Car...   91.96       2.0   \n",
       "3200                              Aastra 57i VoIP phone  258.58       2.0   \n",
       "3201  It's Hot Message Books with Stickers, 2 3/4\" x 5\"   29.60       4.0   \n",
       "3202  Acco 7-Outlet Masterpiece Power Center, Wihtou...  243.16       2.0   \n",
       "\n",
       "      Profit  \n",
       "0       6.87  \n",
       "1      14.17  \n",
       "2       1.97  \n",
       "3      90.72  \n",
       "4       5.78  \n",
       "...      ...  \n",
       "3198   15.22  \n",
       "3199   15.63  \n",
       "3200   19.39  \n",
       "3201   13.32  \n",
       "3202   72.95  \n",
       "\n",
       "[3203 rows x 12 columns]"
      ]
     },
     "execution_count": 21,
     "metadata": {},
     "output_type": "execute_result"
    }
   ],
   "source": [
    "df"
   ]
  },
  {
   "cell_type": "code",
   "execution_count": 22,
   "id": "ed84eb08",
   "metadata": {
    "execution": {
     "iopub.execute_input": "2023-03-11T22:53:52.680635Z",
     "iopub.status.busy": "2023-03-11T22:53:52.679850Z",
     "iopub.status.idle": "2023-03-11T22:53:52.690196Z",
     "shell.execute_reply": "2023-03-11T22:53:52.689266Z"
    },
    "id": "cPivKZIAswD-",
    "outputId": "74764906-c276-4f53-e816-54e928e8f3c0",
    "papermill": {
     "duration": 0.036022,
     "end_time": "2023-03-11T22:53:52.692392",
     "exception": false,
     "start_time": "2023-03-11T22:53:52.656370",
     "status": "completed"
    },
    "tags": []
   },
   "outputs": [
    {
     "data": {
      "text/plain": [
       "count     3203.000000\n",
       "mean       226.493266\n",
       "std        524.876911\n",
       "min          0.990000\n",
       "25%         19.440000\n",
       "50%         60.840000\n",
       "75%        215.810000\n",
       "max      13999.960000\n",
       "Name: Sales, dtype: float64"
      ]
     },
     "execution_count": 22,
     "metadata": {},
     "output_type": "execute_result"
    }
   ],
   "source": [
    "df['Sales'].describe()"
   ]
  },
  {
   "cell_type": "code",
   "execution_count": 23,
   "id": "6ea63e5a",
   "metadata": {
    "execution": {
     "iopub.execute_input": "2023-03-11T22:53:52.740748Z",
     "iopub.status.busy": "2023-03-11T22:53:52.740321Z",
     "iopub.status.idle": "2023-03-11T22:53:52.745135Z",
     "shell.execute_reply": "2023-03-11T22:53:52.744013Z"
    },
    "id": "WNuNIq1Is2z2",
    "papermill": {
     "duration": 0.033158,
     "end_time": "2023-03-11T22:53:52.747501",
     "exception": false,
     "start_time": "2023-03-11T22:53:52.714343",
     "status": "completed"
    },
    "tags": []
   },
   "outputs": [],
   "source": [
    "import seaborn as sns"
   ]
  },
  {
   "cell_type": "code",
   "execution_count": 24,
   "id": "aabdcb0e",
   "metadata": {
    "execution": {
     "iopub.execute_input": "2023-03-11T22:53:52.793766Z",
     "iopub.status.busy": "2023-03-11T22:53:52.793339Z",
     "iopub.status.idle": "2023-03-11T22:53:53.553958Z",
     "shell.execute_reply": "2023-03-11T22:53:53.552748Z"
    },
    "id": "ZTVXZ1Jds8DQ",
    "outputId": "a85474c3-6345-43aa-9153-62d317a7b651",
    "papermill": {
     "duration": 0.787008,
     "end_time": "2023-03-11T22:53:53.556663",
     "exception": false,
     "start_time": "2023-03-11T22:53:52.769655",
     "status": "completed"
    },
    "tags": []
   },
   "outputs": [
    {
     "data": {
      "image/png": "[encoded data removed]",
      "text/plain": [
       "<Figure size 1000x600 with 1 Axes>"
      ]
     },
     "metadata": {},
     "output_type": "display_data"
    }
   ],
   "source": [
    "plt.figure(figsize=(10,6))\n",
    "sns.barplot(x='Category',y='Sales',data=df,palette='YlGnBu')\n",
    "plt.xticks(rotation=90)\n",
    "plt.show()\n"
   ]
  },
  {
   "cell_type": "markdown",
   "id": "7e24df6f",
   "metadata": {
    "id": "fMOrq8ILyFQE",
    "papermill": {
     "duration": 0.022424,
     "end_time": "2023-03-11T22:53:53.602219",
     "exception": false,
     "start_time": "2023-03-11T22:53:53.579795",
     "status": "completed"
    },
    "tags": []
   },
   "source": [
    "Nota:Nota que a categoria labels se repete poucas vezes , ou seja é a ctegoria que tem menos vendas.*texto em itálico* **negrito**"
   ]
  },
  {
   "cell_type": "code",
   "execution_count": 25,
   "id": "5047bd48",
   "metadata": {
    "execution": {
     "iopub.execute_input": "2023-03-11T22:53:53.652543Z",
     "iopub.status.busy": "2023-03-11T22:53:53.652118Z",
     "iopub.status.idle": "2023-03-11T22:53:53.662463Z",
     "shell.execute_reply": "2023-03-11T22:53:53.661101Z"
    },
    "id": "9xOxp8poz97L",
    "outputId": "1e1c1e02-d055-485f-91a1-545efba81035",
    "papermill": {
     "duration": 0.038351,
     "end_time": "2023-03-11T22:53:53.664867",
     "exception": false,
     "start_time": "2023-03-11T22:53:53.626516",
     "status": "completed"
    },
    "tags": []
   },
   "outputs": [
    {
     "data": {
      "text/plain": [
       " 6.22      25\n",
       " 0.00      22\n",
       " 9.33      20\n",
       " 15.55     11\n",
       " 3.11       9\n",
       "           ..\n",
       " 136.62     1\n",
       "-195.48     1\n",
       " 18.50      1\n",
       " 4.35       1\n",
       " 72.95      1\n",
       "Name: Profit, Length: 2164, dtype: int64"
      ]
     },
     "execution_count": 25,
     "metadata": {},
     "output_type": "execute_result"
    }
   ],
   "source": [
    "df['Profit'].value_counts()"
   ]
  },
  {
   "cell_type": "code",
   "execution_count": 26,
   "id": "73287091",
   "metadata": {
    "execution": {
     "iopub.execute_input": "2023-03-11T22:53:53.713661Z",
     "iopub.status.busy": "2023-03-11T22:53:53.712781Z",
     "iopub.status.idle": "2023-03-11T22:53:53.724454Z",
     "shell.execute_reply": "2023-03-11T22:53:53.722986Z"
    },
    "id": "Q80BujSk0R19",
    "outputId": "10042305-6492-4dd5-a53c-56f236aeecdf",
    "papermill": {
     "duration": 0.038856,
     "end_time": "2023-03-11T22:53:53.726983",
     "exception": false,
     "start_time": "2023-03-11T22:53:53.688127",
     "status": "completed"
    },
    "tags": []
   },
   "outputs": [
    {
     "data": {
      "text/plain": [
       "count    3203.000000\n",
       "mean       33.849138\n",
       "std       174.109155\n",
       "min     -3399.980000\n",
       "25%         3.850000\n",
       "50%        11.170000\n",
       "75%        33.000000\n",
       "max      6719.980000\n",
       "Name: Profit, dtype: float64"
      ]
     },
     "execution_count": 26,
     "metadata": {},
     "output_type": "execute_result"
    }
   ],
   "source": [
    "df['Profit'].describe()"
   ]
  },
  {
   "cell_type": "markdown",
   "id": "ebe37e3f",
   "metadata": {
    "id": "-7j7Pwy80fTO",
    "papermill": {
     "duration": 0.023116,
     "end_time": "2023-03-11T22:53:53.773847",
     "exception": false,
     "start_time": "2023-03-11T22:53:53.750731",
     "status": "completed"
    },
    "tags": []
   },
   "source": [
    "Nota que , certamente existem produtos (Cidade) que estão a ter lucros negativose e zeros."
   ]
  },
  {
   "cell_type": "code",
   "execution_count": 27,
   "id": "cd68517c",
   "metadata": {
    "execution": {
     "iopub.execute_input": "2023-03-11T22:53:53.823549Z",
     "iopub.status.busy": "2023-03-11T22:53:53.822526Z",
     "iopub.status.idle": "2023-03-11T22:53:54.377146Z",
     "shell.execute_reply": "2023-03-11T22:53:54.375762Z"
    },
    "id": "ewTUFL5C0uPF",
    "outputId": "a8ddbeba-9784-4479-ffd3-737082f0e9c9",
    "papermill": {
     "duration": 0.582651,
     "end_time": "2023-03-11T22:53:54.379838",
     "exception": false,
     "start_time": "2023-03-11T22:53:53.797187",
     "status": "completed"
    },
    "tags": []
   },
   "outputs": [
    {
     "data": {
      "image/png": "[encoded data removed]",
      "text/plain": [
       "<Figure size 1000x600 with 1 Axes>"
      ]
     },
     "metadata": {},
     "output_type": "display_data"
    }
   ],
   "source": [
    "plt.figure(figsize=(10,6))\n",
    "sns.barplot(x='State',y='Profit',data=df,palette='YlGnBu')\n",
    "plt.xticks(rotation=90)\n",
    "plt.show()"
   ]
  },
  {
   "cell_type": "code",
   "execution_count": 28,
   "id": "9ed73a46",
   "metadata": {
    "execution": {
     "iopub.execute_input": "2023-03-11T22:53:54.431712Z",
     "iopub.status.busy": "2023-03-11T22:53:54.431238Z",
     "iopub.status.idle": "2023-03-11T22:53:54.447923Z",
     "shell.execute_reply": "2023-03-11T22:53:54.446050Z"
    },
    "id": "DWbDHyYN4qy7",
    "outputId": "cfa86c75-bcf7-4157-d728-cad677f4d21c",
    "papermill": {
     "duration": 0.046587,
     "end_time": "2023-03-11T22:53:54.450741",
     "exception": false,
     "start_time": "2023-03-11T22:53:54.404154",
     "status": "completed"
    },
    "tags": []
   },
   "outputs": [
    {
     "name": "stdout",
     "output_type": "stream",
     "text": [
      "<class 'pandas.core.frame.DataFrame'>\n",
      "RangeIndex: 3203 entries, 0 to 3202\n",
      "Data columns (total 12 columns):\n",
      " #   Column         Non-Null Count  Dtype  \n",
      "---  ------         --------------  -----  \n",
      " 0   Order ID       3203 non-null   object \n",
      " 1   Order Date     3203 non-null   object \n",
      " 2   Ship Date      3203 non-null   object \n",
      " 3   Customer Name  3203 non-null   object \n",
      " 4   Country        3203 non-null   object \n",
      " 5   City           3203 non-null   object \n",
      " 6   State          3203 non-null   object \n",
      " 7   Category       3203 non-null   object \n",
      " 8   Product Name   3203 non-null   object \n",
      " 9   Sales          3203 non-null   float64\n",
      " 10  Quantity       3203 non-null   float64\n",
      " 11  Profit         3203 non-null   float64\n",
      "dtypes: float64(3), object(9)\n",
      "memory usage: 300.4+ KB\n"
     ]
    }
   ],
   "source": [
    "df.info()"
   ]
  },
  {
   "cell_type": "markdown",
   "id": "b824184b",
   "metadata": {
    "id": "VwEciPhS8gOK",
    "papermill": {
     "duration": 0.023439,
     "end_time": "2023-03-11T22:53:54.498070",
     "exception": false,
     "start_time": "2023-03-11T22:53:54.474631",
     "status": "completed"
    },
    "tags": []
   },
   "source": [
    "Convertendo Colunas para datas."
   ]
  },
  {
   "cell_type": "code",
   "execution_count": 29,
   "id": "d0153a99",
   "metadata": {
    "execution": {
     "iopub.execute_input": "2023-03-11T22:53:54.550299Z",
     "iopub.status.busy": "2023-03-11T22:53:54.549869Z",
     "iopub.status.idle": "2023-03-11T22:53:54.565417Z",
     "shell.execute_reply": "2023-03-11T22:53:54.564281Z"
    },
    "id": "uPyKdZNY8mYn",
    "papermill": {
     "duration": 0.045651,
     "end_time": "2023-03-11T22:53:54.568189",
     "exception": false,
     "start_time": "2023-03-11T22:53:54.522538",
     "status": "completed"
    },
    "tags": []
   },
   "outputs": [],
   "source": [
    "df['Order Date']=pd.to_datetime(df['Order Date'])\n",
    "df['Ship Date']=pd.to_datetime(df['Ship Date'])"
   ]
  },
  {
   "cell_type": "code",
   "execution_count": 30,
   "id": "d803e4af",
   "metadata": {
    "execution": {
     "iopub.execute_input": "2023-03-11T22:53:54.619807Z",
     "iopub.status.busy": "2023-03-11T22:53:54.618832Z",
     "iopub.status.idle": "2023-03-11T22:53:54.636053Z",
     "shell.execute_reply": "2023-03-11T22:53:54.634450Z"
    },
    "id": "OZww4fyH8ulh",
    "outputId": "55ac2fed-39c2-4b41-a6d8-75c43c30391d",
    "papermill": {
     "duration": 0.046379,
     "end_time": "2023-03-11T22:53:54.639065",
     "exception": false,
     "start_time": "2023-03-11T22:53:54.592686",
     "status": "completed"
    },
    "tags": []
   },
   "outputs": [
    {
     "name": "stdout",
     "output_type": "stream",
     "text": [
      "<class 'pandas.core.frame.DataFrame'>\n",
      "RangeIndex: 3203 entries, 0 to 3202\n",
      "Data columns (total 12 columns):\n",
      " #   Column         Non-Null Count  Dtype         \n",
      "---  ------         --------------  -----         \n",
      " 0   Order ID       3203 non-null   object        \n",
      " 1   Order Date     3203 non-null   datetime64[ns]\n",
      " 2   Ship Date      3203 non-null   datetime64[ns]\n",
      " 3   Customer Name  3203 non-null   object        \n",
      " 4   Country        3203 non-null   object        \n",
      " 5   City           3203 non-null   object        \n",
      " 6   State          3203 non-null   object        \n",
      " 7   Category       3203 non-null   object        \n",
      " 8   Product Name   3203 non-null   object        \n",
      " 9   Sales          3203 non-null   float64       \n",
      " 10  Quantity       3203 non-null   float64       \n",
      " 11  Profit         3203 non-null   float64       \n",
      "dtypes: datetime64[ns](2), float64(3), object(7)\n",
      "memory usage: 300.4+ KB\n"
     ]
    }
   ],
   "source": [
    "df.info()"
   ]
  },
  {
   "cell_type": "markdown",
   "id": "8004a182",
   "metadata": {
    "id": "GhUZhNnM9N_v",
    "papermill": {
     "duration": 0.024085,
     "end_time": "2023-03-11T22:53:54.687305",
     "exception": false,
     "start_time": "2023-03-11T22:53:54.663220",
     "status": "completed"
    },
    "tags": []
   },
   "source": [
    "Reanomeando colunas nomes de coluna com espaço"
   ]
  },
  {
   "cell_type": "code",
   "execution_count": 31,
   "id": "fcafaf45",
   "metadata": {
    "execution": {
     "iopub.execute_input": "2023-03-11T22:53:54.737809Z",
     "iopub.status.busy": "2023-03-11T22:53:54.737385Z",
     "iopub.status.idle": "2023-03-11T22:53:54.744144Z",
     "shell.execute_reply": "2023-03-11T22:53:54.742797Z"
    },
    "id": "58Gb-2jX9yhi",
    "papermill": {
     "duration": 0.035015,
     "end_time": "2023-03-11T22:53:54.746574",
     "exception": false,
     "start_time": "2023-03-11T22:53:54.711559",
     "status": "completed"
    },
    "tags": []
   },
   "outputs": [],
   "source": [
    "df.rename(columns={'Order ID':'OrderID','Ship Date':'ShipDate','Customer Name':'CustomerName','Product Name':'ProductName','Order Date':'OrderDate\t'},inplace=True)"
   ]
  },
  {
   "cell_type": "code",
   "execution_count": null,
   "id": "22527028",
   "metadata": {
    "id": "bnwVpIlMCVx_",
    "papermill": {
     "duration": 0.023937,
     "end_time": "2023-03-11T22:53:54.795154",
     "exception": false,
     "start_time": "2023-03-11T22:53:54.771217",
     "status": "completed"
    },
    "tags": []
   },
   "outputs": [],
   "source": []
  },
  {
   "cell_type": "code",
   "execution_count": null,
   "id": "bbef410a",
   "metadata": {
    "id": "3u2fgDefXe6E",
    "papermill": {
     "duration": 0.024594,
     "end_time": "2023-03-11T22:53:54.844128",
     "exception": false,
     "start_time": "2023-03-11T22:53:54.819534",
     "status": "completed"
    },
    "tags": []
   },
   "outputs": [],
   "source": []
  },
  {
   "cell_type": "markdown",
   "id": "22f67cfd",
   "metadata": {
    "id": "R70h_ft8-g-y",
    "papermill": {
     "duration": 0.024061,
     "end_time": "2023-03-11T22:53:54.892675",
     "exception": false,
     "start_time": "2023-03-11T22:53:54.868614",
     "status": "completed"
    },
    "tags": []
   },
   "source": [
    "Analisando a porcentagem de Produtos que tenhem lucros negativos ."
   ]
  },
  {
   "cell_type": "code",
   "execution_count": 32,
   "id": "1273c03d",
   "metadata": {
    "execution": {
     "iopub.execute_input": "2023-03-11T22:53:54.945358Z",
     "iopub.status.busy": "2023-03-11T22:53:54.944216Z",
     "iopub.status.idle": "2023-03-11T22:53:54.949803Z",
     "shell.execute_reply": "2023-03-11T22:53:54.948782Z"
    },
    "id": "MeftZ6-4-pix",
    "papermill": {
     "duration": 0.034206,
     "end_time": "2023-03-11T22:53:54.952000",
     "exception": false,
     "start_time": "2023-03-11T22:53:54.917794",
     "status": "completed"
    },
    "tags": []
   },
   "outputs": [],
   "source": [
    "lista_negative=[]\n",
    "lista_positive=[]\n",
    "lista_zero=[]\n",
    "x=int(0)\n",
    "y=int(0)\n",
    "z=int(0)\n",
    "\n"
   ]
  },
  {
   "cell_type": "code",
   "execution_count": 33,
   "id": "51322ca3",
   "metadata": {
    "execution": {
     "iopub.execute_input": "2023-03-11T22:53:55.002011Z",
     "iopub.status.busy": "2023-03-11T22:53:55.001590Z",
     "iopub.status.idle": "2023-03-11T22:53:55.047797Z",
     "shell.execute_reply": "2023-03-11T22:53:55.046618Z"
    },
    "id": "__L2EQKQ-wXo",
    "outputId": "9c496129-49e8-4658-f920-64c1d059d892",
    "papermill": {
     "duration": 0.074191,
     "end_time": "2023-03-11T22:53:55.050467",
     "exception": false,
     "start_time": "2023-03-11T22:53:54.976276",
     "status": "completed"
    },
    "tags": []
   },
   "outputs": [
    {
     "data": {
      "text/plain": [
       "318"
      ]
     },
     "execution_count": 33,
     "metadata": {},
     "output_type": "execute_result"
    }
   ],
   "source": [
    "for x in range(len(df['Profit'])):\n",
    "  if df.Profit[x] < 0 :\n",
    "    lista_negative.append(df.Profit[x])\n",
    "    \n",
    "len(lista_negative)"
   ]
  },
  {
   "cell_type": "code",
   "execution_count": 34,
   "id": "a268565e",
   "metadata": {
    "execution": {
     "iopub.execute_input": "2023-03-11T22:53:55.101636Z",
     "iopub.status.busy": "2023-03-11T22:53:55.101259Z",
     "iopub.status.idle": "2023-03-11T22:53:55.106197Z",
     "shell.execute_reply": "2023-03-11T22:53:55.105018Z"
    },
    "id": "Mf2OPn87DbYS",
    "papermill": {
     "duration": 0.033393,
     "end_time": "2023-03-11T22:53:55.108565",
     "exception": false,
     "start_time": "2023-03-11T22:53:55.075172",
     "status": "completed"
    },
    "tags": []
   },
   "outputs": [],
   "source": [
    "x=len(lista_negative)"
   ]
  },
  {
   "cell_type": "code",
   "execution_count": 35,
   "id": "b4df8635",
   "metadata": {
    "execution": {
     "iopub.execute_input": "2023-03-11T22:53:55.159954Z",
     "iopub.status.busy": "2023-03-11T22:53:55.159556Z",
     "iopub.status.idle": "2023-03-11T22:53:55.229953Z",
     "shell.execute_reply": "2023-03-11T22:53:55.228768Z"
    },
    "id": "N4Qq0Yn7_MOc",
    "outputId": "74d76d08-bf42-47ab-d6d3-377daab8ce3e",
    "papermill": {
     "duration": 0.099433,
     "end_time": "2023-03-11T22:53:55.232650",
     "exception": false,
     "start_time": "2023-03-11T22:53:55.133217",
     "status": "completed"
    },
    "tags": []
   },
   "outputs": [
    {
     "data": {
      "text/plain": [
       "2863"
      ]
     },
     "execution_count": 35,
     "metadata": {},
     "output_type": "execute_result"
    }
   ],
   "source": [
    "for y in range(len(df['Profit'])):\n",
    "  if df.Profit[y] > 0 :\n",
    "    lista_positive.append(df.Profit[y])\n",
    "len(lista_positive)"
   ]
  },
  {
   "cell_type": "code",
   "execution_count": 36,
   "id": "3e3e4f66",
   "metadata": {
    "execution": {
     "iopub.execute_input": "2023-03-11T22:53:55.284375Z",
     "iopub.status.busy": "2023-03-11T22:53:55.283908Z",
     "iopub.status.idle": "2023-03-11T22:53:55.288388Z",
     "shell.execute_reply": "2023-03-11T22:53:55.287527Z"
    },
    "id": "CxFbOPVWDeDV",
    "papermill": {
     "duration": 0.032886,
     "end_time": "2023-03-11T22:53:55.290693",
     "exception": false,
     "start_time": "2023-03-11T22:53:55.257807",
     "status": "completed"
    },
    "tags": []
   },
   "outputs": [],
   "source": [
    "y=len(lista_positive)"
   ]
  },
  {
   "cell_type": "code",
   "execution_count": 37,
   "id": "1f26c7ba",
   "metadata": {
    "execution": {
     "iopub.execute_input": "2023-03-11T22:53:55.343287Z",
     "iopub.status.busy": "2023-03-11T22:53:55.342823Z",
     "iopub.status.idle": "2023-03-11T22:53:55.385404Z",
     "shell.execute_reply": "2023-03-11T22:53:55.384014Z"
    },
    "id": "Cqrfp5B7_P4e",
    "outputId": "ab599ff6-9a5a-43df-85f3-e1de7c6eaaac",
    "papermill": {
     "duration": 0.072311,
     "end_time": "2023-03-11T22:53:55.388105",
     "exception": false,
     "start_time": "2023-03-11T22:53:55.315794",
     "status": "completed"
    },
    "tags": []
   },
   "outputs": [
    {
     "data": {
      "text/plain": [
       "22"
      ]
     },
     "execution_count": 37,
     "metadata": {},
     "output_type": "execute_result"
    }
   ],
   "source": [
    "for z in range(len(df['Profit'])):\n",
    "  if df.Profit[z] == 0 :\n",
    "    lista_zero.append(df.Profit[z])\n",
    "len(lista_zero)"
   ]
  },
  {
   "cell_type": "code",
   "execution_count": 38,
   "id": "f0d795fa",
   "metadata": {
    "execution": {
     "iopub.execute_input": "2023-03-11T22:53:55.442799Z",
     "iopub.status.busy": "2023-03-11T22:53:55.442356Z",
     "iopub.status.idle": "2023-03-11T22:53:55.447331Z",
     "shell.execute_reply": "2023-03-11T22:53:55.446003Z"
    },
    "id": "dMtDGlaPDhoe",
    "papermill": {
     "duration": 0.036533,
     "end_time": "2023-03-11T22:53:55.449763",
     "exception": false,
     "start_time": "2023-03-11T22:53:55.413230",
     "status": "completed"
    },
    "tags": []
   },
   "outputs": [],
   "source": [
    "z=len(lista_zero)"
   ]
  },
  {
   "cell_type": "code",
   "execution_count": 39,
   "id": "2fd84db6",
   "metadata": {
    "execution": {
     "iopub.execute_input": "2023-03-11T22:53:55.503052Z",
     "iopub.status.busy": "2023-03-11T22:53:55.501813Z",
     "iopub.status.idle": "2023-03-11T22:53:55.507106Z",
     "shell.execute_reply": "2023-03-11T22:53:55.506226Z"
    },
    "id": "t64qQgZCBxeJ",
    "papermill": {
     "duration": 0.033902,
     "end_time": "2023-03-11T22:53:55.509280",
     "exception": false,
     "start_time": "2023-03-11T22:53:55.475378",
     "status": "completed"
    },
    "tags": []
   },
   "outputs": [],
   "source": [
    "vals=[y,x,z]\n",
    "labels=['Qt lucros  Positivos','Qt de lucros negativos','Qt de lucros iguais a zero']"
   ]
  },
  {
   "cell_type": "code",
   "execution_count": 40,
   "id": "fe2e3c2f",
   "metadata": {
    "execution": {
     "iopub.execute_input": "2023-03-11T22:53:55.561989Z",
     "iopub.status.busy": "2023-03-11T22:53:55.561342Z",
     "iopub.status.idle": "2023-03-11T22:53:55.781278Z",
     "shell.execute_reply": "2023-03-11T22:53:55.779959Z"
    },
    "id": "sYL5-gviCXMe",
    "outputId": "288a9506-93d9-429b-a56a-3c61f92ee86e",
    "papermill": {
     "duration": 0.249486,
     "end_time": "2023-03-11T22:53:55.784050",
     "exception": false,
     "start_time": "2023-03-11T22:53:55.534564",
     "status": "completed"
    },
    "tags": []
   },
   "outputs": [
    {
     "data": {
      "image/png": "[encoded data removed]",
      "text/plain": [
       "<Figure size 1000x800 with 1 Axes>"
      ]
     },
     "metadata": {},
     "output_type": "display_data"
    }
   ],
   "source": [
    "fig,ax=plt.subplots(figsize=(10,8))\n",
    "explode=(0.1,0.1,0.1)\n",
    "ax.set_title('Gráfico Porcentual',fontsize=16)\n",
    "ax.pie(vals,labels=labels,autopct='%.1f%%', explode=explode)\n",
    "plt.show()"
   ]
  },
  {
   "cell_type": "markdown",
   "id": "ad571ad6",
   "metadata": {
    "id": "6Cf5nt-rEpte",
    "papermill": {
     "duration": 0.027503,
     "end_time": "2023-03-11T22:53:55.838202",
     "exception": false,
     "start_time": "2023-03-11T22:53:55.810699",
     "status": "completed"
    },
    "tags": []
   },
   "source": [
    "Categorias que tenhem a maior quantidade de de vendas."
   ]
  },
  {
   "cell_type": "code",
   "execution_count": 41,
   "id": "4bb1831d",
   "metadata": {
    "execution": {
     "iopub.execute_input": "2023-03-11T22:53:55.892091Z",
     "iopub.status.busy": "2023-03-11T22:53:55.891401Z",
     "iopub.status.idle": "2023-03-11T22:53:58.873500Z",
     "shell.execute_reply": "2023-03-11T22:53:58.872302Z"
    },
    "id": "laaRRkWqExEJ",
    "outputId": "afce278c-2b2c-4e02-e711-e0359de27624",
    "papermill": {
     "duration": 3.012366,
     "end_time": "2023-03-11T22:53:58.876171",
     "exception": false,
     "start_time": "2023-03-11T22:53:55.863805",
     "status": "completed"
    },
    "tags": []
   },
   "outputs": [
    {
     "data": {
      "image/png": "[encoded data removed]",
      "text/plain": [
       "<Figure size 1000x800 with 1 Axes>"
      ]
     },
     "metadata": {},
     "output_type": "display_data"
    }
   ],
   "source": [
    "plt.figure(figsize=(10,8))\n",
    "sns.barplot(x='Category',y='Quantity', hue='Category',data=df,palette='YlGnBu')\n",
    "plt.xticks(rotation=90)\n",
    "plt.show()"
   ]
  },
  {
   "cell_type": "code",
   "execution_count": 42,
   "id": "3e4fdcf8",
   "metadata": {
    "execution": {
     "iopub.execute_input": "2023-03-11T22:53:58.931984Z",
     "iopub.status.busy": "2023-03-11T22:53:58.931559Z",
     "iopub.status.idle": "2023-03-11T22:53:58.958025Z",
     "shell.execute_reply": "2023-03-11T22:53:58.956828Z"
    },
    "id": "wRrzHs8WXgpG",
    "outputId": "f0ddf8b6-b8c0-4d44-ad08-8fbf1acfa059",
    "papermill": {
     "duration": 0.057419,
     "end_time": "2023-03-11T22:53:58.960733",
     "exception": false,
     "start_time": "2023-03-11T22:53:58.903314",
     "status": "completed"
    },
    "tags": []
   },
   "outputs": [
    {
     "data": {
      "text/html": [
       "<div>\n",
       "<style scoped>\n",
       "    .dataframe tbody tr th:only-of-type {\n",
       "        vertical-align: middle;\n",
       "    }\n",
       "\n",
       "    .dataframe tbody tr th {\n",
       "        vertical-align: top;\n",
       "    }\n",
       "\n",
       "    .dataframe thead th {\n",
       "        text-align: right;\n",
       "    }\n",
       "</style>\n",
       "<table border=\"1\" class=\"dataframe\">\n",
       "  <thead>\n",
       "    <tr style=\"text-align: right;\">\n",
       "      <th></th>\n",
       "      <th>OrderID</th>\n",
       "      <th>OrderDate\\t</th>\n",
       "      <th>ShipDate</th>\n",
       "      <th>CustomerName</th>\n",
       "      <th>Country</th>\n",
       "      <th>City</th>\n",
       "      <th>State</th>\n",
       "      <th>Category</th>\n",
       "      <th>ProductName</th>\n",
       "      <th>Sales</th>\n",
       "      <th>Quantity</th>\n",
       "      <th>Profit</th>\n",
       "    </tr>\n",
       "  </thead>\n",
       "  <tbody>\n",
       "    <tr>\n",
       "      <th>0</th>\n",
       "      <td>CA-2013-138688</td>\n",
       "      <td>2013-06-13</td>\n",
       "      <td>2013-06-17</td>\n",
       "      <td>Darrin Van Huff</td>\n",
       "      <td>United States</td>\n",
       "      <td>Los Angeles</td>\n",
       "      <td>California</td>\n",
       "      <td>Labels</td>\n",
       "      <td>Self-Adhesive Address Labels for Typewriters b...</td>\n",
       "      <td>14.62</td>\n",
       "      <td>2.0</td>\n",
       "      <td>6.87</td>\n",
       "    </tr>\n",
       "    <tr>\n",
       "      <th>1</th>\n",
       "      <td>CA-2011-115812</td>\n",
       "      <td>2011-09-06</td>\n",
       "      <td>2011-06-14</td>\n",
       "      <td>Brosina Hoffman</td>\n",
       "      <td>United States</td>\n",
       "      <td>Los Angeles</td>\n",
       "      <td>California</td>\n",
       "      <td>Furnishings</td>\n",
       "      <td>Eldon Expressions Wood and Plastic Desk Access...</td>\n",
       "      <td>48.86</td>\n",
       "      <td>7.0</td>\n",
       "      <td>14.17</td>\n",
       "    </tr>\n",
       "    <tr>\n",
       "      <th>2</th>\n",
       "      <td>CA-2011-115812</td>\n",
       "      <td>2011-09-06</td>\n",
       "      <td>2011-06-14</td>\n",
       "      <td>Brosina Hoffman</td>\n",
       "      <td>United States</td>\n",
       "      <td>Los Angeles</td>\n",
       "      <td>California</td>\n",
       "      <td>Art</td>\n",
       "      <td>Newell 322</td>\n",
       "      <td>7.28</td>\n",
       "      <td>4.0</td>\n",
       "      <td>1.97</td>\n",
       "    </tr>\n",
       "    <tr>\n",
       "      <th>3</th>\n",
       "      <td>CA-2011-115812</td>\n",
       "      <td>2011-09-06</td>\n",
       "      <td>2011-06-14</td>\n",
       "      <td>Brosina Hoffman</td>\n",
       "      <td>United States</td>\n",
       "      <td>Los Angeles</td>\n",
       "      <td>California</td>\n",
       "      <td>Phones</td>\n",
       "      <td>Mitel 5320 IP Phone VoIP phone</td>\n",
       "      <td>907.15</td>\n",
       "      <td>4.0</td>\n",
       "      <td>90.72</td>\n",
       "    </tr>\n",
       "    <tr>\n",
       "      <th>4</th>\n",
       "      <td>CA-2011-115812</td>\n",
       "      <td>2011-09-06</td>\n",
       "      <td>2011-06-14</td>\n",
       "      <td>Brosina Hoffman</td>\n",
       "      <td>United States</td>\n",
       "      <td>Los Angeles</td>\n",
       "      <td>California</td>\n",
       "      <td>Binders</td>\n",
       "      <td>DXL Angle-View Binders with Locking Rings by S...</td>\n",
       "      <td>18.50</td>\n",
       "      <td>3.0</td>\n",
       "      <td>5.78</td>\n",
       "    </tr>\n",
       "    <tr>\n",
       "      <th>...</th>\n",
       "      <td>...</td>\n",
       "      <td>...</td>\n",
       "      <td>...</td>\n",
       "      <td>...</td>\n",
       "      <td>...</td>\n",
       "      <td>...</td>\n",
       "      <td>...</td>\n",
       "      <td>...</td>\n",
       "      <td>...</td>\n",
       "      <td>...</td>\n",
       "      <td>...</td>\n",
       "      <td>...</td>\n",
       "    </tr>\n",
       "    <tr>\n",
       "      <th>3198</th>\n",
       "      <td>CA-2013-125794</td>\n",
       "      <td>2013-09-30</td>\n",
       "      <td>2013-04-10</td>\n",
       "      <td>Maris LaWare</td>\n",
       "      <td>United States</td>\n",
       "      <td>Los Angeles</td>\n",
       "      <td>California</td>\n",
       "      <td>Accessories</td>\n",
       "      <td>Memorex Mini Travel Drive 64 GB USB 2.0 Flash ...</td>\n",
       "      <td>36.24</td>\n",
       "      <td>1.0</td>\n",
       "      <td>15.22</td>\n",
       "    </tr>\n",
       "    <tr>\n",
       "      <th>3199</th>\n",
       "      <td>CA-2014-121258</td>\n",
       "      <td>2014-02-27</td>\n",
       "      <td>2014-04-03</td>\n",
       "      <td>Dave Brooks</td>\n",
       "      <td>United States</td>\n",
       "      <td>Costa Mesa</td>\n",
       "      <td>California</td>\n",
       "      <td>Furnishings</td>\n",
       "      <td>Tenex B1-RE Series Chair Mats for Low Pile Car...</td>\n",
       "      <td>91.96</td>\n",
       "      <td>2.0</td>\n",
       "      <td>15.63</td>\n",
       "    </tr>\n",
       "    <tr>\n",
       "      <th>3200</th>\n",
       "      <td>CA-2014-121258</td>\n",
       "      <td>2014-02-27</td>\n",
       "      <td>2014-04-03</td>\n",
       "      <td>Dave Brooks</td>\n",
       "      <td>United States</td>\n",
       "      <td>Costa Mesa</td>\n",
       "      <td>California</td>\n",
       "      <td>Phones</td>\n",
       "      <td>Aastra 57i VoIP phone</td>\n",
       "      <td>258.58</td>\n",
       "      <td>2.0</td>\n",
       "      <td>19.39</td>\n",
       "    </tr>\n",
       "    <tr>\n",
       "      <th>3201</th>\n",
       "      <td>CA-2014-121258</td>\n",
       "      <td>2014-02-27</td>\n",
       "      <td>2014-04-03</td>\n",
       "      <td>Dave Brooks</td>\n",
       "      <td>United States</td>\n",
       "      <td>Costa Mesa</td>\n",
       "      <td>California</td>\n",
       "      <td>Paper</td>\n",
       "      <td>It's Hot Message Books with Stickers, 2 3/4\" x 5\"</td>\n",
       "      <td>29.60</td>\n",
       "      <td>4.0</td>\n",
       "      <td>13.32</td>\n",
       "    </tr>\n",
       "    <tr>\n",
       "      <th>3202</th>\n",
       "      <td>CA-2014-119914</td>\n",
       "      <td>2014-05-05</td>\n",
       "      <td>2014-10-05</td>\n",
       "      <td>Chris Cortes</td>\n",
       "      <td>United States</td>\n",
       "      <td>Westminster</td>\n",
       "      <td>California</td>\n",
       "      <td>Appliances</td>\n",
       "      <td>Acco 7-Outlet Masterpiece Power Center, Wihtou...</td>\n",
       "      <td>243.16</td>\n",
       "      <td>2.0</td>\n",
       "      <td>72.95</td>\n",
       "    </tr>\n",
       "  </tbody>\n",
       "</table>\n",
       "<p>3203 rows × 12 columns</p>\n",
       "</div>"
      ],
      "text/plain": [
       "             OrderID OrderDate\\t   ShipDate     CustomerName        Country  \\\n",
       "0     CA-2013-138688  2013-06-13 2013-06-17  Darrin Van Huff  United States   \n",
       "1     CA-2011-115812  2011-09-06 2011-06-14  Brosina Hoffman  United States   \n",
       "2     CA-2011-115812  2011-09-06 2011-06-14  Brosina Hoffman  United States   \n",
       "3     CA-2011-115812  2011-09-06 2011-06-14  Brosina Hoffman  United States   \n",
       "4     CA-2011-115812  2011-09-06 2011-06-14  Brosina Hoffman  United States   \n",
       "...              ...         ...        ...              ...            ...   \n",
       "3198  CA-2013-125794  2013-09-30 2013-04-10     Maris LaWare  United States   \n",
       "3199  CA-2014-121258  2014-02-27 2014-04-03      Dave Brooks  United States   \n",
       "3200  CA-2014-121258  2014-02-27 2014-04-03      Dave Brooks  United States   \n",
       "3201  CA-2014-121258  2014-02-27 2014-04-03      Dave Brooks  United States   \n",
       "3202  CA-2014-119914  2014-05-05 2014-10-05     Chris Cortes  United States   \n",
       "\n",
       "             City       State     Category  \\\n",
       "0     Los Angeles  California       Labels   \n",
       "1     Los Angeles  California  Furnishings   \n",
       "2     Los Angeles  California          Art   \n",
       "3     Los Angeles  California       Phones   \n",
       "4     Los Angeles  California      Binders   \n",
       "...           ...         ...          ...   \n",
       "3198  Los Angeles  California  Accessories   \n",
       "3199   Costa Mesa  California  Furnishings   \n",
       "3200   Costa Mesa  California       Phones   \n",
       "3201   Costa Mesa  California        Paper   \n",
       "3202  Westminster  California   Appliances   \n",
       "\n",
       "                                            ProductName   Sales  Quantity  \\\n",
       "0     Self-Adhesive Address Labels for Typewriters b...   14.62       2.0   \n",
       "1     Eldon Expressions Wood and Plastic Desk Access...   48.86       7.0   \n",
       "2                                            Newell 322    7.28       4.0   \n",
       "3                        Mitel 5320 IP Phone VoIP phone  907.15       4.0   \n",
       "4     DXL Angle-View Binders with Locking Rings by S...   18.50       3.0   \n",
       "...                                                 ...     ...       ...   \n",
       "3198  Memorex Mini Travel Drive 64 GB USB 2.0 Flash ...   36.24       1.0   \n",
       "3199  Tenex B1-RE Series Chair Mats for Low Pile Car...   91.96       2.0   \n",
       "3200                              Aastra 57i VoIP phone  258.58       2.0   \n",
       "3201  It's Hot Message Books with Stickers, 2 3/4\" x 5\"   29.60       4.0   \n",
       "3202  Acco 7-Outlet Masterpiece Power Center, Wihtou...  243.16       2.0   \n",
       "\n",
       "      Profit  \n",
       "0       6.87  \n",
       "1      14.17  \n",
       "2       1.97  \n",
       "3      90.72  \n",
       "4       5.78  \n",
       "...      ...  \n",
       "3198   15.22  \n",
       "3199   15.63  \n",
       "3200   19.39  \n",
       "3201   13.32  \n",
       "3202   72.95  \n",
       "\n",
       "[3203 rows x 12 columns]"
      ]
     },
     "execution_count": 42,
     "metadata": {},
     "output_type": "execute_result"
    }
   ],
   "source": [
    "df"
   ]
  },
  {
   "cell_type": "markdown",
   "id": "e2af99e1",
   "metadata": {
    "id": "mnzpS0CtDsr2",
    "papermill": {
     "duration": 0.026752,
     "end_time": "2023-03-11T22:53:59.014566",
     "exception": false,
     "start_time": "2023-03-11T22:53:58.987814",
     "status": "completed"
    },
    "tags": []
   },
   "source": [
    "Nota:certamente existe uma porcentagem de valores que tenhem como lucros zeros."
   ]
  },
  {
   "cell_type": "code",
   "execution_count": 43,
   "id": "d115d1ad",
   "metadata": {
    "execution": {
     "iopub.execute_input": "2023-03-11T22:53:59.070716Z",
     "iopub.status.busy": "2023-03-11T22:53:59.070308Z",
     "iopub.status.idle": "2023-03-11T22:53:59.324261Z",
     "shell.execute_reply": "2023-03-11T22:53:59.323093Z"
    },
    "id": "S5poKQd_D9GM",
    "outputId": "fecbd173-530e-4706-d17b-7d0de43040e6",
    "papermill": {
     "duration": 0.285181,
     "end_time": "2023-03-11T22:53:59.326896",
     "exception": false,
     "start_time": "2023-03-11T22:53:59.041715",
     "status": "completed"
    },
    "tags": []
   },
   "outputs": [
    {
     "data": {
      "text/plain": [
       "<AxesSubplot:>"
      ]
     },
     "execution_count": 43,
     "metadata": {},
     "output_type": "execute_result"
    },
    {
     "data": {
      "image/png": "[encoded data removed]",
      "text/plain": [
       "<Figure size 640x480 with 1 Axes>"
      ]
     },
     "metadata": {},
     "output_type": "display_data"
    }
   ],
   "source": [
    "df_mask_zero=df['Profit']==0\n",
    "df['Profit'][~df_mask_zero].apply(np.log10).hist(bins=20,xrot=30)"
   ]
  },
  {
   "cell_type": "markdown",
   "id": "4ba45076",
   "metadata": {
    "id": "cM3UXeDqaF0g",
    "papermill": {
     "duration": 0.02676,
     "end_time": "2023-03-11T22:53:59.381366",
     "exception": false,
     "start_time": "2023-03-11T22:53:59.354606",
     "status": "completed"
    },
    "tags": []
   },
   "source": [
    "Nomes dos produtos que tenhem como lucros zeros."
   ]
  },
  {
   "cell_type": "code",
   "execution_count": 44,
   "id": "7336550e",
   "metadata": {
    "execution": {
     "iopub.execute_input": "2023-03-11T22:53:59.442850Z",
     "iopub.status.busy": "2023-03-11T22:53:59.442408Z",
     "iopub.status.idle": "2023-03-11T22:53:59.847703Z",
     "shell.execute_reply": "2023-03-11T22:53:59.846426Z"
    },
    "id": "dDWoa4NZaMnE",
    "outputId": "173dfc9e-d554-4375-f5cc-1b4f2437cd64",
    "papermill": {
     "duration": 0.441707,
     "end_time": "2023-03-11T22:53:59.850428",
     "exception": false,
     "start_time": "2023-03-11T22:53:59.408721",
     "status": "completed"
    },
    "tags": []
   },
   "outputs": [
    {
     "data": {
      "text/plain": [
       "<AxesSubplot:>"
      ]
     },
     "execution_count": 44,
     "metadata": {},
     "output_type": "execute_result"
    },
    {
     "data": {
      "image/png": "[encoded data removed]",
      "text/plain": [
       "<Figure size 640x480 with 1 Axes>"
      ]
     },
     "metadata": {},
     "output_type": "display_data"
    }
   ],
   "source": [
    "df.loc[df.Profit == 0,'ProductName'].hist(bins=20,xrot=90)"
   ]
  },
  {
   "cell_type": "markdown",
   "id": "36997b68",
   "metadata": {
    "id": "dV2qCDIqaVFv",
    "papermill": {
     "duration": 0.029267,
     "end_time": "2023-03-11T22:53:59.910293",
     "exception": false,
     "start_time": "2023-03-11T22:53:59.881026",
     "status": "completed"
    },
    "tags": []
   },
   "source": [
    "Nome dos estados que tenhem como lucro zero."
   ]
  },
  {
   "cell_type": "code",
   "execution_count": 45,
   "id": "d16a35d0",
   "metadata": {
    "execution": {
     "iopub.execute_input": "2023-03-11T22:53:59.972297Z",
     "iopub.status.busy": "2023-03-11T22:53:59.971833Z",
     "iopub.status.idle": "2023-03-11T22:54:00.229414Z",
     "shell.execute_reply": "2023-03-11T22:54:00.228059Z"
    },
    "id": "AuUKeOGYaZAB",
    "outputId": "bee26272-9998-4813-cfe8-9ea94537f39c",
    "papermill": {
     "duration": 0.292946,
     "end_time": "2023-03-11T22:54:00.232490",
     "exception": false,
     "start_time": "2023-03-11T22:53:59.939544",
     "status": "completed"
    },
    "tags": []
   },
   "outputs": [
    {
     "data": {
      "text/plain": [
       "<AxesSubplot:>"
      ]
     },
     "execution_count": 45,
     "metadata": {},
     "output_type": "execute_result"
    },
    {
     "data": {
      "image/png": "[encoded data removed]",
      "text/plain": [
       "<Figure size 640x480 with 1 Axes>"
      ]
     },
     "metadata": {},
     "output_type": "display_data"
    }
   ],
   "source": [
    "df.loc[df.Profit==0,'State'].hist(bins=20,xrot=90)"
   ]
  },
  {
   "cell_type": "markdown",
   "id": "85d46319",
   "metadata": {
    "id": "vMwFVljga0vc",
    "papermill": {
     "duration": 0.030228,
     "end_time": "2023-03-11T22:54:00.292933",
     "exception": false,
     "start_time": "2023-03-11T22:54:00.262705",
     "status": "completed"
    },
    "tags": []
   },
   "source": [
    "Nome das cidades que tenhem como lucro zero"
   ]
  },
  {
   "cell_type": "code",
   "execution_count": 46,
   "id": "ea8601f1",
   "metadata": {
    "execution": {
     "iopub.execute_input": "2023-03-11T22:54:00.354567Z",
     "iopub.status.busy": "2023-03-11T22:54:00.354166Z",
     "iopub.status.idle": "2023-03-11T22:54:00.637060Z",
     "shell.execute_reply": "2023-03-11T22:54:00.635689Z"
    },
    "id": "u254_xZ4bAlx",
    "outputId": "3094a3cf-dd15-4ee2-cc17-7b62226c914b",
    "papermill": {
     "duration": 0.316785,
     "end_time": "2023-03-11T22:54:00.639685",
     "exception": false,
     "start_time": "2023-03-11T22:54:00.322900",
     "status": "completed"
    },
    "tags": []
   },
   "outputs": [
    {
     "data": {
      "text/plain": [
       "<AxesSubplot:>"
      ]
     },
     "execution_count": 46,
     "metadata": {},
     "output_type": "execute_result"
    },
    {
     "data": {
      "image/png": "[encoded data removed]",
      "text/plain": [
       "<Figure size 640x480 with 1 Axes>"
      ]
     },
     "metadata": {},
     "output_type": "display_data"
    }
   ],
   "source": [
    "df.loc[df.Profit==0,'City'].hist(bins=20,xrot=90)"
   ]
  },
  {
   "cell_type": "code",
   "execution_count": 47,
   "id": "f2640458",
   "metadata": {
    "execution": {
     "iopub.execute_input": "2023-03-11T22:54:00.703388Z",
     "iopub.status.busy": "2023-03-11T22:54:00.702357Z",
     "iopub.status.idle": "2023-03-11T22:54:01.583203Z",
     "shell.execute_reply": "2023-03-11T22:54:01.582057Z"
    },
    "id": "dwnNT8w3deFx",
    "outputId": "517a0cb1-0731-4b97-fc3c-eedf8c259598",
    "papermill": {
     "duration": 0.917937,
     "end_time": "2023-03-11T22:54:01.587505",
     "exception": false,
     "start_time": "2023-03-11T22:54:00.669568",
     "status": "completed"
    },
    "tags": []
   },
   "outputs": [
    {
     "data": {
      "text/plain": [
       "Text(0.5, 1.0, 'Porcentagem de produtos que possume Lucro de zero')"
      ]
     },
     "execution_count": 47,
     "metadata": {},
     "output_type": "execute_result"
    },
    {
     "data": {
      "image/png": "[encoded data removed]",
      "text/plain": [
       "<Figure size 1000x800 with 3 Axes>"
      ]
     },
     "metadata": {},
     "output_type": "display_data"
    }
   ],
   "source": [
    "plt.figure(figsize=(10,8))\n",
    "\n",
    "plt.subplot(2,2,1)\n",
    "df.loc[df.Profit==0,'City'].hist(bins=20,xrot=90)\n",
    "plt.xticks(rotation=90)\n",
    "plt.legend(['Cidades'])\n",
    "plt.title(' Porcentagem de Cidades que possume Lucro de zero')\n",
    "plt.tight_layout()\n",
    "\n",
    "\n",
    "plt.subplot(2,2,2)\n",
    "df.loc[df.Profit==0,'State'].hist(bins=20,xrot=90)\n",
    "plt.xticks(rotation=90)\n",
    "plt.legend(['Estados'])\n",
    "plt.title('Porcentagem de estados que possume Lucro de zero')\n",
    "plt.tight_layout()\n",
    "\n",
    "\n",
    "plt.subplot(2,2,3)\n",
    "df.loc[df.Profit==0,'ProductName'].hist(bins=20,xrot=90)\n",
    "plt.xticks(rotation=90)\n",
    "plt.legend(['Produtos'])\n",
    "plt.title('Porcentagem de produtos que possume Lucro de zero')\n",
    "\n",
    "\n",
    "\n"
   ]
  },
  {
   "cell_type": "code",
   "execution_count": 48,
   "id": "cfc5b38e",
   "metadata": {
    "execution": {
     "iopub.execute_input": "2023-03-11T22:54:01.655931Z",
     "iopub.status.busy": "2023-03-11T22:54:01.655504Z",
     "iopub.status.idle": "2023-03-11T22:54:01.664570Z",
     "shell.execute_reply": "2023-03-11T22:54:01.663444Z"
    },
    "id": "_Mdx6TU2froY",
    "outputId": "efe60295-6c5a-45a4-e46e-b1eb93e1cf35",
    "papermill": {
     "duration": 0.046568,
     "end_time": "2023-03-11T22:54:01.667152",
     "exception": false,
     "start_time": "2023-03-11T22:54:01.620584",
     "status": "completed"
    },
    "tags": []
   },
   "outputs": [
    {
     "data": {
      "text/plain": [
       "28    Flexible Leather- Look Classic Collection Ring...\n",
       "30               Logitech K350 2.4Ghz Wireless Keyboard\n",
       "31    Deflect-o DuraMat Lighweight, Studded, Beveled...\n",
       "Name: ProductName, dtype: object"
      ]
     },
     "execution_count": 48,
     "metadata": {},
     "output_type": "execute_result"
    }
   ],
   "source": [
    "lista_1=df.loc[df.Profit < 0,'ProductName']\n",
    "lista_1[0:3]\n"
   ]
  },
  {
   "cell_type": "code",
   "execution_count": 49,
   "id": "f515aec0",
   "metadata": {
    "execution": {
     "iopub.execute_input": "2023-03-11T22:54:01.734931Z",
     "iopub.status.busy": "2023-03-11T22:54:01.734516Z",
     "iopub.status.idle": "2023-03-11T22:54:01.745376Z",
     "shell.execute_reply": "2023-03-11T22:54:01.744055Z"
    },
    "id": "9CC3_xFCfyU2",
    "outputId": "c9fdfa83-d196-4e74-d8a4-5ccb629de5ac",
    "papermill": {
     "duration": 0.047932,
     "end_time": "2023-03-11T22:54:01.747740",
     "exception": false,
     "start_time": "2023-03-11T22:54:01.699808",
     "status": "completed"
    },
    "tags": []
   },
   "outputs": [
    {
     "data": {
      "text/plain": [
       "28    Portland\n",
       "30      Aurora\n",
       "31      Aurora\n",
       "Name: City, dtype: object"
      ]
     },
     "execution_count": 49,
     "metadata": {},
     "output_type": "execute_result"
    }
   ],
   "source": [
    "lista_2=df.loc[df.Profit < 0,'City']\n",
    "lista_2[0:3]"
   ]
  },
  {
   "cell_type": "code",
   "execution_count": 50,
   "id": "6bd94ff6",
   "metadata": {
    "execution": {
     "iopub.execute_input": "2023-03-11T22:54:01.816702Z",
     "iopub.status.busy": "2023-03-11T22:54:01.815793Z",
     "iopub.status.idle": "2023-03-11T22:54:01.826380Z",
     "shell.execute_reply": "2023-03-11T22:54:01.825076Z"
    },
    "id": "7pnTrhUqf6FI",
    "outputId": "74312b59-b632-4b02-8268-213910206b23",
    "papermill": {
     "duration": 0.047824,
     "end_time": "2023-03-11T22:54:01.828809",
     "exception": false,
     "start_time": "2023-03-11T22:54:01.780985",
     "status": "completed"
    },
    "tags": []
   },
   "outputs": [
    {
     "data": {
      "text/plain": [
       "28      Oregon\n",
       "30    Colorado\n",
       "31    Colorado\n",
       "Name: State, dtype: object"
      ]
     },
     "execution_count": 50,
     "metadata": {},
     "output_type": "execute_result"
    }
   ],
   "source": [
    "lista_3=df.loc[df.Profit < 0,'State']\n",
    "lista_3[0:3]"
   ]
  },
  {
   "cell_type": "code",
   "execution_count": 51,
   "id": "c4ab3f62",
   "metadata": {
    "execution": {
     "iopub.execute_input": "2023-03-11T22:54:01.897827Z",
     "iopub.status.busy": "2023-03-11T22:54:01.897052Z",
     "iopub.status.idle": "2023-03-11T22:54:01.906098Z",
     "shell.execute_reply": "2023-03-11T22:54:01.905026Z"
    },
    "id": "QQLbYLGlgOB9",
    "outputId": "ff610b17-ac1b-41d2-dfb3-0b0b17c9dbb3",
    "papermill": {
     "duration": 0.046184,
     "end_time": "2023-03-11T22:54:01.908358",
     "exception": false,
     "start_time": "2023-03-11T22:54:01.862174",
     "status": "completed"
    },
    "tags": []
   },
   "outputs": [
    {
     "data": {
      "text/plain": [
       "0    Self-Adhesive Address Labels for Typewriters b...\n",
       "1    Eldon Expressions Wood and Plastic Desk Access...\n",
       "2                                           Newell 322\n",
       "Name: ProductName, dtype: object"
      ]
     },
     "execution_count": 51,
     "metadata": {},
     "output_type": "execute_result"
    }
   ],
   "source": [
    "lista_12=df.loc[df.Profit > 0 ,'ProductName']\n",
    "lista_12[0:3]"
   ]
  },
  {
   "cell_type": "code",
   "execution_count": 52,
   "id": "246f5843",
   "metadata": {
    "execution": {
     "iopub.execute_input": "2023-03-11T22:54:01.978300Z",
     "iopub.status.busy": "2023-03-11T22:54:01.977427Z",
     "iopub.status.idle": "2023-03-11T22:54:01.986389Z",
     "shell.execute_reply": "2023-03-11T22:54:01.985334Z"
    },
    "id": "xngmubGGgbxO",
    "outputId": "1deea508-6aae-4d47-8eb0-a5374dafe51f",
    "papermill": {
     "duration": 0.046603,
     "end_time": "2023-03-11T22:54:01.988920",
     "exception": false,
     "start_time": "2023-03-11T22:54:01.942317",
     "status": "completed"
    },
    "tags": []
   },
   "outputs": [
    {
     "data": {
      "text/plain": [
       "0    Los Angeles\n",
       "1    Los Angeles\n",
       "2    Los Angeles\n",
       "Name: City, dtype: object"
      ]
     },
     "execution_count": 52,
     "metadata": {},
     "output_type": "execute_result"
    }
   ],
   "source": [
    "lista_34=df.loc[df.Profit > 0 ,'City']\n",
    "lista_34[0:3]"
   ]
  },
  {
   "cell_type": "code",
   "execution_count": 53,
   "id": "f02fd28c",
   "metadata": {
    "execution": {
     "iopub.execute_input": "2023-03-11T22:54:02.058840Z",
     "iopub.status.busy": "2023-03-11T22:54:02.058433Z",
     "iopub.status.idle": "2023-03-11T22:54:02.066924Z",
     "shell.execute_reply": "2023-03-11T22:54:02.066116Z"
    },
    "id": "dogcZTMHgfVr",
    "outputId": "06143dc1-251c-4873-e5c3-0a64bc81110b",
    "papermill": {
     "duration": 0.045511,
     "end_time": "2023-03-11T22:54:02.069010",
     "exception": false,
     "start_time": "2023-03-11T22:54:02.023499",
     "status": "completed"
    },
    "tags": []
   },
   "outputs": [
    {
     "data": {
      "text/plain": [
       "0    California\n",
       "1    California\n",
       "2    California\n",
       "Name: State, dtype: object"
      ]
     },
     "execution_count": 53,
     "metadata": {},
     "output_type": "execute_result"
    }
   ],
   "source": [
    "lista_56=df.loc[df.Profit > 0 ,'State']\n",
    "lista_56[0:3]"
   ]
  },
  {
   "cell_type": "markdown",
   "id": "c4558157",
   "metadata": {
    "id": "waD7a0TvhNx-",
    "papermill": {
     "duration": 0.034953,
     "end_time": "2023-03-11T22:54:02.137584",
     "exception": false,
     "start_time": "2023-03-11T22:54:02.102631",
     "status": "completed"
    },
    "tags": []
   },
   "source": [
    "# Explorando as caractéristicas Categóricas"
   ]
  },
  {
   "cell_type": "code",
   "execution_count": 54,
   "id": "b34a083c",
   "metadata": {
    "execution": {
     "iopub.execute_input": "2023-03-11T22:54:02.208179Z",
     "iopub.status.busy": "2023-03-11T22:54:02.207754Z",
     "iopub.status.idle": "2023-03-11T22:54:02.216935Z",
     "shell.execute_reply": "2023-03-11T22:54:02.215823Z"
    },
    "id": "kinBRNr4hWQH",
    "outputId": "3151cd8b-6189-4c72-8fc4-a2aae3c24634",
    "papermill": {
     "duration": 0.048083,
     "end_time": "2023-03-11T22:54:02.219461",
     "exception": false,
     "start_time": "2023-03-11T22:54:02.171378",
     "status": "completed"
    },
    "tags": []
   },
   "outputs": [
    {
     "data": {
      "text/plain": [
       "Los Angeles       747\n",
       "San Francisco     510\n",
       "Seattle           428\n",
       "San Diego         170\n",
       "Phoenix            63\n",
       "                 ... \n",
       "Cheyenne            1\n",
       "Yucaipa             1\n",
       "Redding             1\n",
       "Citrus Heights      1\n",
       "Layton              1\n",
       "Name: City, Length: 169, dtype: int64"
      ]
     },
     "execution_count": 54,
     "metadata": {},
     "output_type": "execute_result"
    }
   ],
   "source": [
    "df['City'].value_counts()"
   ]
  },
  {
   "cell_type": "markdown",
   "id": "e34926ac",
   "metadata": {
    "id": "IrvMbjz-hsK-",
    "papermill": {
     "duration": 0.033574,
     "end_time": "2023-03-11T22:54:02.288332",
     "exception": false,
     "start_time": "2023-03-11T22:54:02.254758",
     "status": "completed"
    },
    "tags": []
   },
   "source": [
    "Nota que : Cidades como Los Angeles , San Francisco ,Seattle ,San Diego  ,Phoenix ,são as cidades que mais se repetem.."
   ]
  },
  {
   "cell_type": "code",
   "execution_count": 55,
   "id": "4b9f323e",
   "metadata": {
    "execution": {
     "iopub.execute_input": "2023-03-11T22:54:02.363243Z",
     "iopub.status.busy": "2023-03-11T22:54:02.362796Z",
     "iopub.status.idle": "2023-03-11T22:54:02.374424Z",
     "shell.execute_reply": "2023-03-11T22:54:02.373261Z"
    },
    "id": "7M6sswHDieNZ",
    "outputId": "2359c4b6-6d8b-4ed6-a9cc-cce4f8f92997",
    "papermill": {
     "duration": 0.05299,
     "end_time": "2023-03-11T22:54:02.376927",
     "exception": false,
     "start_time": "2023-03-11T22:54:02.323937",
     "status": "completed"
    },
    "tags": []
   },
   "outputs": [
    {
     "data": {
      "text/plain": [
       "Staples                                                 60\n",
       "Avery Non-Stick Binders                                  8\n",
       "Bretford Rectangular Conference Table Tops               7\n",
       "Global Troy Executive Leather Low-Back Tilter            7\n",
       "SAFCO Arco Folding Chair                                 7\n",
       "                                                        ..\n",
       "Avery 505                                                1\n",
       "RCA ViSYS 25423RE1 Corded phone                          1\n",
       "Master Giant Foot Doorstop, Safety Yellow                1\n",
       "Bush Westfield Collection Bookcases, Fully Assembled     1\n",
       "Avaya 5410 Digital phone                                 1\n",
       "Name: ProductName, Length: 1494, dtype: int64"
      ]
     },
     "execution_count": 55,
     "metadata": {},
     "output_type": "execute_result"
    }
   ],
   "source": [
    "df['ProductName'].value_counts()"
   ]
  },
  {
   "cell_type": "code",
   "execution_count": 56,
   "id": "da7bba7b",
   "metadata": {
    "execution": {
     "iopub.execute_input": "2023-03-11T22:54:02.451564Z",
     "iopub.status.busy": "2023-03-11T22:54:02.451174Z",
     "iopub.status.idle": "2023-03-11T22:54:02.460305Z",
     "shell.execute_reply": "2023-03-11T22:54:02.459214Z"
    },
    "id": "W51f0gp4iq6y",
    "outputId": "b9f06c1c-0d02-479e-93a9-e4e2dc5a2014",
    "papermill": {
     "duration": 0.048757,
     "end_time": "2023-03-11T22:54:02.462647",
     "exception": false,
     "start_time": "2023-03-11T22:54:02.413890",
     "status": "completed"
    },
    "tags": []
   },
   "outputs": [
    {
     "data": {
      "text/plain": [
       "California    2001\n",
       "Washington     506\n",
       "Arizona        224\n",
       "Colorado       182\n",
       "Oregon         124\n",
       "Utah            53\n",
       "Nevada          39\n",
       "New Mexico      37\n",
       "Idaho           21\n",
       "Montana         15\n",
       "Wyoming          1\n",
       "Name: State, dtype: int64"
      ]
     },
     "execution_count": 56,
     "metadata": {},
     "output_type": "execute_result"
    }
   ],
   "source": [
    "df['State'].value_counts()"
   ]
  },
  {
   "cell_type": "code",
   "execution_count": 57,
   "id": "c5b5f62f",
   "metadata": {
    "execution": {
     "iopub.execute_input": "2023-03-11T22:54:02.534641Z",
     "iopub.status.busy": "2023-03-11T22:54:02.534211Z",
     "iopub.status.idle": "2023-03-11T22:54:02.553738Z",
     "shell.execute_reply": "2023-03-11T22:54:02.552622Z"
    },
    "id": "68hHZKKYjgAx",
    "outputId": "f96bb2c6-5be9-4cfe-9eae-7a1b574fa0bf",
    "papermill": {
     "duration": 0.058642,
     "end_time": "2023-03-11T22:54:02.556016",
     "exception": false,
     "start_time": "2023-03-11T22:54:02.497374",
     "status": "completed"
    },
    "tags": []
   },
   "outputs": [
    {
     "data": {
      "text/html": [
       "<div>\n",
       "<style scoped>\n",
       "    .dataframe tbody tr th:only-of-type {\n",
       "        vertical-align: middle;\n",
       "    }\n",
       "\n",
       "    .dataframe tbody tr th {\n",
       "        vertical-align: top;\n",
       "    }\n",
       "\n",
       "    .dataframe thead th {\n",
       "        text-align: right;\n",
       "    }\n",
       "</style>\n",
       "<table border=\"1\" class=\"dataframe\">\n",
       "  <thead>\n",
       "    <tr style=\"text-align: right;\">\n",
       "      <th></th>\n",
       "      <th>OrderID</th>\n",
       "      <th>OrderDate\\t</th>\n",
       "      <th>ShipDate</th>\n",
       "      <th>CustomerName</th>\n",
       "      <th>Country</th>\n",
       "      <th>City</th>\n",
       "      <th>State</th>\n",
       "      <th>Category</th>\n",
       "      <th>ProductName</th>\n",
       "      <th>Sales</th>\n",
       "      <th>Quantity</th>\n",
       "      <th>Profit</th>\n",
       "    </tr>\n",
       "  </thead>\n",
       "  <tbody>\n",
       "    <tr>\n",
       "      <th>0</th>\n",
       "      <td>CA-2013-138688</td>\n",
       "      <td>2013-06-13</td>\n",
       "      <td>2013-06-17</td>\n",
       "      <td>Darrin Van Huff</td>\n",
       "      <td>United States</td>\n",
       "      <td>Los Angeles</td>\n",
       "      <td>California</td>\n",
       "      <td>Labels</td>\n",
       "      <td>Self-Adhesive Address Labels for Typewriters b...</td>\n",
       "      <td>14.62</td>\n",
       "      <td>2.0</td>\n",
       "      <td>6.87</td>\n",
       "    </tr>\n",
       "    <tr>\n",
       "      <th>1</th>\n",
       "      <td>CA-2011-115812</td>\n",
       "      <td>2011-09-06</td>\n",
       "      <td>2011-06-14</td>\n",
       "      <td>Brosina Hoffman</td>\n",
       "      <td>United States</td>\n",
       "      <td>Los Angeles</td>\n",
       "      <td>California</td>\n",
       "      <td>Furnishings</td>\n",
       "      <td>Eldon Expressions Wood and Plastic Desk Access...</td>\n",
       "      <td>48.86</td>\n",
       "      <td>7.0</td>\n",
       "      <td>14.17</td>\n",
       "    </tr>\n",
       "    <tr>\n",
       "      <th>2</th>\n",
       "      <td>CA-2011-115812</td>\n",
       "      <td>2011-09-06</td>\n",
       "      <td>2011-06-14</td>\n",
       "      <td>Brosina Hoffman</td>\n",
       "      <td>United States</td>\n",
       "      <td>Los Angeles</td>\n",
       "      <td>California</td>\n",
       "      <td>Art</td>\n",
       "      <td>Newell 322</td>\n",
       "      <td>7.28</td>\n",
       "      <td>4.0</td>\n",
       "      <td>1.97</td>\n",
       "    </tr>\n",
       "  </tbody>\n",
       "</table>\n",
       "</div>"
      ],
      "text/plain": [
       "          OrderID OrderDate\\t   ShipDate     CustomerName        Country  \\\n",
       "0  CA-2013-138688  2013-06-13 2013-06-17  Darrin Van Huff  United States   \n",
       "1  CA-2011-115812  2011-09-06 2011-06-14  Brosina Hoffman  United States   \n",
       "2  CA-2011-115812  2011-09-06 2011-06-14  Brosina Hoffman  United States   \n",
       "\n",
       "          City       State     Category  \\\n",
       "0  Los Angeles  California       Labels   \n",
       "1  Los Angeles  California  Furnishings   \n",
       "2  Los Angeles  California          Art   \n",
       "\n",
       "                                         ProductName  Sales  Quantity  Profit  \n",
       "0  Self-Adhesive Address Labels for Typewriters b...  14.62       2.0    6.87  \n",
       "1  Eldon Expressions Wood and Plastic Desk Access...  48.86       7.0   14.17  \n",
       "2                                         Newell 322   7.28       4.0    1.97  "
      ]
     },
     "execution_count": 57,
     "metadata": {},
     "output_type": "execute_result"
    }
   ],
   "source": [
    "df.head(3)"
   ]
  },
  {
   "cell_type": "markdown",
   "id": "43bda1a6",
   "metadata": {
    "id": "S_fl-0Uzj8ou",
    "papermill": {
     "duration": 0.034875,
     "end_time": "2023-03-11T22:54:02.625530",
     "exception": false,
     "start_time": "2023-03-11T22:54:02.590655",
     "status": "completed"
    },
    "tags": []
   },
   "source": [
    "Nota que , certamente existe alguns produtos que  levararam mais tempo a chegar nos seus destinos. (Analisando.)"
   ]
  },
  {
   "cell_type": "code",
   "execution_count": 58,
   "id": "4f6d9578",
   "metadata": {
    "execution": {
     "iopub.execute_input": "2023-03-11T22:54:02.698181Z",
     "iopub.status.busy": "2023-03-11T22:54:02.697717Z",
     "iopub.status.idle": "2023-03-11T22:54:02.704055Z",
     "shell.execute_reply": "2023-03-11T22:54:02.702950Z"
    },
    "id": "UPfr_xnLoP7i",
    "papermill": {
     "duration": 0.045392,
     "end_time": "2023-03-11T22:54:02.706204",
     "exception": false,
     "start_time": "2023-03-11T22:54:02.660812",
     "status": "completed"
    },
    "tags": []
   },
   "outputs": [],
   "source": [
    "df.rename(columns={'OrderDate\\t':'OrderDate1'},inplace=True)"
   ]
  },
  {
   "cell_type": "code",
   "execution_count": 59,
   "id": "096b1a20",
   "metadata": {
    "execution": {
     "iopub.execute_input": "2023-03-11T22:54:02.776954Z",
     "iopub.status.busy": "2023-03-11T22:54:02.776518Z",
     "iopub.status.idle": "2023-03-11T22:54:02.784000Z",
     "shell.execute_reply": "2023-03-11T22:54:02.782747Z"
    },
    "id": "YpxoYi4vo4FW",
    "papermill": {
     "duration": 0.045456,
     "end_time": "2023-03-11T22:54:02.786495",
     "exception": false,
     "start_time": "2023-03-11T22:54:02.741039",
     "status": "completed"
    },
    "tags": []
   },
   "outputs": [],
   "source": [
    "df['Media de envio de um produto']=(df.ShipDate-df.OrderDate1).abs()"
   ]
  },
  {
   "cell_type": "code",
   "execution_count": 60,
   "id": "1b599493",
   "metadata": {
    "execution": {
     "iopub.execute_input": "2023-03-11T22:54:02.859299Z",
     "iopub.status.busy": "2023-03-11T22:54:02.858618Z",
     "iopub.status.idle": "2023-03-11T22:54:02.864542Z",
     "shell.execute_reply": "2023-03-11T22:54:02.863388Z"
    },
    "id": "1-IhFzbnqgWb",
    "papermill": {
     "duration": 0.045294,
     "end_time": "2023-03-11T22:54:02.866921",
     "exception": false,
     "start_time": "2023-03-11T22:54:02.821627",
     "status": "completed"
    },
    "tags": []
   },
   "outputs": [],
   "source": [
    "df.rename(columns={'Media de envio de um produto':'Mediadeenviodeumproduto'},inplace=True)"
   ]
  },
  {
   "cell_type": "markdown",
   "id": "e9914ac6",
   "metadata": {
    "id": "SKXl3msyq9mC",
    "papermill": {
     "duration": 0.034168,
     "end_time": "2023-03-11T22:54:02.935349",
     "exception": false,
     "start_time": "2023-03-11T22:54:02.901181",
     "status": "completed"
    },
    "tags": []
   },
   "source": [
    "Porcentagem de produtos com tempo de envio."
   ]
  },
  {
   "cell_type": "code",
   "execution_count": 61,
   "id": "c9ee2b80",
   "metadata": {
    "execution": {
     "iopub.execute_input": "2023-03-11T22:54:03.008450Z",
     "iopub.status.busy": "2023-03-11T22:54:03.007422Z",
     "iopub.status.idle": "2023-03-11T22:54:03.142128Z",
     "shell.execute_reply": "2023-03-11T22:54:03.140832Z"
    },
    "id": "hVy3WHikrbYw",
    "outputId": "253f005b-768a-4486-8b8e-4b7c9e9ffe47",
    "papermill": {
     "duration": 0.175204,
     "end_time": "2023-03-11T22:54:03.145417",
     "exception": false,
     "start_time": "2023-03-11T22:54:02.970213",
     "status": "completed"
    },
    "tags": []
   },
   "outputs": [
    {
     "name": "stderr",
     "output_type": "stream",
     "text": [
      "/opt/conda/lib/python3.7/site-packages/ipykernel_launcher.py:1: FutureWarning: casting timedelta64[ns] values to int64 with .astype(...) is deprecated and will raise in a future version. Use .view(...) instead.\n",
      "  \"\"\"Entry point for launching an IPython kernel.\n"
     ]
    }
   ],
   "source": [
    "df['Mediadeenviodeumproduto']=df['Mediadeenviodeumproduto'].astype('int64')"
   ]
  },
  {
   "cell_type": "code",
   "execution_count": 62,
   "id": "c4f9a52f",
   "metadata": {
    "execution": {
     "iopub.execute_input": "2023-03-11T22:54:03.219267Z",
     "iopub.status.busy": "2023-03-11T22:54:03.218767Z",
     "iopub.status.idle": "2023-03-11T22:54:03.229923Z",
     "shell.execute_reply": "2023-03-11T22:54:03.228294Z"
    },
    "id": "f05BbyAwsUfw",
    "outputId": "57e26396-050e-4ca0-c566-f3da6943ffe0",
    "papermill": {
     "duration": 0.051505,
     "end_time": "2023-03-11T22:54:03.232677",
     "exception": false,
     "start_time": "2023-03-11T22:54:03.181172",
     "status": "completed"
    },
    "tags": []
   },
   "outputs": [
    {
     "data": {
      "text/plain": [
       "235                                 KI Conference Tables\n",
       "236                    Fellowes Officeware Wire Shelving\n",
       "258        Eldon Stackable Tray, Side-Load, Legal, Smoke\n",
       "259    Razer Tiamat Over Ear 7.1 Surround Sound PC Ga...\n",
       "270    Binney & Smith Crayola Metallic Crayons, 16-Co...\n",
       "Name: ProductName, dtype: object"
      ]
     },
     "execution_count": 62,
     "metadata": {},
     "output_type": "execute_result"
    }
   ],
   "source": [
    "df.loc[df.Mediadeenviodeumproduto <=4,'ProductName'].head(5)"
   ]
  },
  {
   "cell_type": "code",
   "execution_count": 63,
   "id": "61693eef",
   "metadata": {
    "execution": {
     "iopub.execute_input": "2023-03-11T22:54:03.305082Z",
     "iopub.status.busy": "2023-03-11T22:54:03.304286Z",
     "iopub.status.idle": "2023-03-11T22:54:03.313589Z",
     "shell.execute_reply": "2023-03-11T22:54:03.312345Z"
    },
    "id": "qlun-mDUtt4G",
    "outputId": "7e44cc71-dfba-44b0-c3f4-1bfc2ef85c68",
    "papermill": {
     "duration": 0.048541,
     "end_time": "2023-03-11T22:54:03.316363",
     "exception": false,
     "start_time": "2023-03-11T22:54:03.267822",
     "status": "completed"
    },
    "tags": []
   },
   "outputs": [
    {
     "data": {
      "text/plain": [
       "166"
      ]
     },
     "execution_count": 63,
     "metadata": {},
     "output_type": "execute_result"
    }
   ],
   "source": [
    "df.loc[df.Mediadeenviodeumproduto <=5,'State'].count()"
   ]
  },
  {
   "cell_type": "code",
   "execution_count": 64,
   "id": "1e4f4bf5",
   "metadata": {
    "execution": {
     "iopub.execute_input": "2023-03-11T22:54:03.389940Z",
     "iopub.status.busy": "2023-03-11T22:54:03.389538Z",
     "iopub.status.idle": "2023-03-11T22:54:03.635696Z",
     "shell.execute_reply": "2023-03-11T22:54:03.634610Z"
    },
    "id": "JGX7EwQTt1TR",
    "outputId": "8942dce8-d87a-4067-a3e6-b357051cd295",
    "papermill": {
     "duration": 0.285966,
     "end_time": "2023-03-11T22:54:03.638447",
     "exception": false,
     "start_time": "2023-03-11T22:54:03.352481",
     "status": "completed"
    },
    "tags": []
   },
   "outputs": [
    {
     "data": {
      "text/plain": [
       "<AxesSubplot:>"
      ]
     },
     "execution_count": 64,
     "metadata": {},
     "output_type": "execute_result"
    },
    {
     "data": {
      "image/png": "[encoded data removed]",
      "text/plain": [
       "<Figure size 640x480 with 1 Axes>"
      ]
     },
     "metadata": {},
     "output_type": "display_data"
    }
   ],
   "source": [
    "df.loc[df.Mediadeenviodeumproduto >=5,'State'].hist(bins=20,xrot=90)"
   ]
  },
  {
   "cell_type": "markdown",
   "id": "0245dc70",
   "metadata": {
    "id": "38GwgsHnx2iM",
    "papermill": {
     "duration": 0.035411,
     "end_time": "2023-03-11T22:54:03.709768",
     "exception": false,
     "start_time": "2023-03-11T22:54:03.674357",
     "status": "completed"
    },
    "tags": []
   },
   "source": [
    "Nota que , podemos ver que o estado Idaho tem o melhor tempo de envio, Sera ? , veremos."
   ]
  },
  {
   "cell_type": "code",
   "execution_count": 65,
   "id": "05a5ab4a",
   "metadata": {
    "execution": {
     "iopub.execute_input": "2023-03-11T22:54:03.784563Z",
     "iopub.status.busy": "2023-03-11T22:54:03.784173Z",
     "iopub.status.idle": "2023-03-11T22:54:03.792893Z",
     "shell.execute_reply": "2023-03-11T22:54:03.791700Z"
    },
    "id": "t6IgzNOcw-TH",
    "outputId": "e5b45efe-ecae-438b-db52-719f020e9002",
    "papermill": {
     "duration": 0.048248,
     "end_time": "2023-03-11T22:54:03.795271",
     "exception": false,
     "start_time": "2023-03-11T22:54:03.747023",
     "status": "completed"
    },
    "tags": []
   },
   "outputs": [
    {
     "data": {
      "text/plain": [
       "0         345600000000000\n",
       "1        7257600000000000\n",
       "2        7257600000000000\n",
       "3        7257600000000000\n",
       "4        7257600000000000\n",
       "              ...        \n",
       "3198    14947200000000000\n",
       "3199     3024000000000000\n",
       "3200     3024000000000000\n",
       "3201     3024000000000000\n",
       "3202    13219200000000000\n",
       "Name: Mediadeenviodeumproduto, Length: 3203, dtype: int64"
      ]
     },
     "execution_count": 65,
     "metadata": {},
     "output_type": "execute_result"
    }
   ],
   "source": [
    "df['Mediadeenviodeumproduto']"
   ]
  },
  {
   "cell_type": "code",
   "execution_count": 66,
   "id": "ac3f44b7",
   "metadata": {
    "execution": {
     "iopub.execute_input": "2023-03-11T22:54:03.870254Z",
     "iopub.status.busy": "2023-03-11T22:54:03.869823Z",
     "iopub.status.idle": "2023-03-11T22:54:04.168628Z",
     "shell.execute_reply": "2023-03-11T22:54:04.167490Z"
    },
    "id": "6gRk6Q-dzEBR",
    "outputId": "2c747595-a226-4a78-ad27-d4e99c052494",
    "papermill": {
     "duration": 0.339324,
     "end_time": "2023-03-11T22:54:04.171249",
     "exception": false,
     "start_time": "2023-03-11T22:54:03.831925",
     "status": "completed"
    },
    "tags": []
   },
   "outputs": [
    {
     "data": {
      "image/png": "[encoded data removed]",
      "text/plain": [
       "<Figure size 640x480 with 1 Axes>"
      ]
     },
     "metadata": {},
     "output_type": "display_data"
    }
   ],
   "source": [
    "sns.boxplot(x='State',y='Mediadeenviodeumproduto',palette='YlGnBu',data=df)\n",
    "plt.xticks(rotation=90)\n",
    "plt.show()"
   ]
  },
  {
   "cell_type": "code",
   "execution_count": 67,
   "id": "bc07a1b0",
   "metadata": {
    "execution": {
     "iopub.execute_input": "2023-03-11T22:54:04.252050Z",
     "iopub.status.busy": "2023-03-11T22:54:04.251621Z",
     "iopub.status.idle": "2023-03-11T22:54:04.258345Z",
     "shell.execute_reply": "2023-03-11T22:54:04.257023Z"
    },
    "id": "HpHFvsAj1CBl",
    "papermill": {
     "duration": 0.052124,
     "end_time": "2023-03-11T22:54:04.261011",
     "exception": false,
     "start_time": "2023-03-11T22:54:04.208887",
     "status": "completed"
    },
    "tags": []
   },
   "outputs": [],
   "source": [
    "df['Mediadeenviodeumproduto']=df['Mediadeenviodeumproduto'].astype('float64')"
   ]
  },
  {
   "cell_type": "markdown",
   "id": "bf0e2712",
   "metadata": {
    "id": "H_1RIY5h6PhG",
    "papermill": {
     "duration": 0.038032,
     "end_time": "2023-03-11T22:54:04.335852",
     "exception": false,
     "start_time": "2023-03-11T22:54:04.297820",
     "status": "completed"
    },
    "tags": []
   },
   "source": [
    "Criando novos atributos:"
   ]
  },
  {
   "cell_type": "code",
   "execution_count": 68,
   "id": "934af20a",
   "metadata": {
    "execution": {
     "iopub.execute_input": "2023-03-11T22:54:04.413546Z",
     "iopub.status.busy": "2023-03-11T22:54:04.413071Z",
     "iopub.status.idle": "2023-03-11T22:54:04.422882Z",
     "shell.execute_reply": "2023-03-11T22:54:04.421086Z"
    },
    "id": "YgLxXOko6TGD",
    "papermill": {
     "duration": 0.051999,
     "end_time": "2023-03-11T22:54:04.425866",
     "exception": false,
     "start_time": "2023-03-11T22:54:04.373867",
     "status": "completed"
    },
    "tags": []
   },
   "outputs": [],
   "source": [
    "df['Tempo de envio em dias de um produto.']=(df.ShipDate-df.OrderDate1).abs()"
   ]
  },
  {
   "cell_type": "code",
   "execution_count": 69,
   "id": "cac5d3d6",
   "metadata": {
    "execution": {
     "iopub.execute_input": "2023-03-11T22:54:04.502659Z",
     "iopub.status.busy": "2023-03-11T22:54:04.501636Z",
     "iopub.status.idle": "2023-03-11T22:54:04.534803Z",
     "shell.execute_reply": "2023-03-11T22:54:04.533489Z"
    },
    "id": "W9xKoXV_6zba",
    "outputId": "edddfefe-2447-49fc-fc07-77001322e9d9",
    "papermill": {
     "duration": 0.074061,
     "end_time": "2023-03-11T22:54:04.537496",
     "exception": false,
     "start_time": "2023-03-11T22:54:04.463435",
     "status": "completed"
    },
    "tags": []
   },
   "outputs": [
    {
     "data": {
      "text/html": [
       "<div>\n",
       "<style scoped>\n",
       "    .dataframe tbody tr th:only-of-type {\n",
       "        vertical-align: middle;\n",
       "    }\n",
       "\n",
       "    .dataframe tbody tr th {\n",
       "        vertical-align: top;\n",
       "    }\n",
       "\n",
       "    .dataframe thead th {\n",
       "        text-align: right;\n",
       "    }\n",
       "</style>\n",
       "<table border=\"1\" class=\"dataframe\">\n",
       "  <thead>\n",
       "    <tr style=\"text-align: right;\">\n",
       "      <th></th>\n",
       "      <th>OrderID</th>\n",
       "      <th>OrderDate1</th>\n",
       "      <th>ShipDate</th>\n",
       "      <th>CustomerName</th>\n",
       "      <th>Country</th>\n",
       "      <th>City</th>\n",
       "      <th>State</th>\n",
       "      <th>Category</th>\n",
       "      <th>ProductName</th>\n",
       "      <th>Sales</th>\n",
       "      <th>Quantity</th>\n",
       "      <th>Profit</th>\n",
       "      <th>Mediadeenviodeumproduto</th>\n",
       "      <th>Tempo de envio em dias de um produto.</th>\n",
       "    </tr>\n",
       "  </thead>\n",
       "  <tbody>\n",
       "    <tr>\n",
       "      <th>0</th>\n",
       "      <td>CA-2013-138688</td>\n",
       "      <td>2013-06-13</td>\n",
       "      <td>2013-06-17</td>\n",
       "      <td>Darrin Van Huff</td>\n",
       "      <td>United States</td>\n",
       "      <td>Los Angeles</td>\n",
       "      <td>California</td>\n",
       "      <td>Labels</td>\n",
       "      <td>Self-Adhesive Address Labels for Typewriters b...</td>\n",
       "      <td>14.62</td>\n",
       "      <td>2.0</td>\n",
       "      <td>6.87</td>\n",
       "      <td>3.456000e+14</td>\n",
       "      <td>4 days</td>\n",
       "    </tr>\n",
       "    <tr>\n",
       "      <th>1</th>\n",
       "      <td>CA-2011-115812</td>\n",
       "      <td>2011-09-06</td>\n",
       "      <td>2011-06-14</td>\n",
       "      <td>Brosina Hoffman</td>\n",
       "      <td>United States</td>\n",
       "      <td>Los Angeles</td>\n",
       "      <td>California</td>\n",
       "      <td>Furnishings</td>\n",
       "      <td>Eldon Expressions Wood and Plastic Desk Access...</td>\n",
       "      <td>48.86</td>\n",
       "      <td>7.0</td>\n",
       "      <td>14.17</td>\n",
       "      <td>7.257600e+15</td>\n",
       "      <td>84 days</td>\n",
       "    </tr>\n",
       "    <tr>\n",
       "      <th>2</th>\n",
       "      <td>CA-2011-115812</td>\n",
       "      <td>2011-09-06</td>\n",
       "      <td>2011-06-14</td>\n",
       "      <td>Brosina Hoffman</td>\n",
       "      <td>United States</td>\n",
       "      <td>Los Angeles</td>\n",
       "      <td>California</td>\n",
       "      <td>Art</td>\n",
       "      <td>Newell 322</td>\n",
       "      <td>7.28</td>\n",
       "      <td>4.0</td>\n",
       "      <td>1.97</td>\n",
       "      <td>7.257600e+15</td>\n",
       "      <td>84 days</td>\n",
       "    </tr>\n",
       "    <tr>\n",
       "      <th>3</th>\n",
       "      <td>CA-2011-115812</td>\n",
       "      <td>2011-09-06</td>\n",
       "      <td>2011-06-14</td>\n",
       "      <td>Brosina Hoffman</td>\n",
       "      <td>United States</td>\n",
       "      <td>Los Angeles</td>\n",
       "      <td>California</td>\n",
       "      <td>Phones</td>\n",
       "      <td>Mitel 5320 IP Phone VoIP phone</td>\n",
       "      <td>907.15</td>\n",
       "      <td>4.0</td>\n",
       "      <td>90.72</td>\n",
       "      <td>7.257600e+15</td>\n",
       "      <td>84 days</td>\n",
       "    </tr>\n",
       "    <tr>\n",
       "      <th>4</th>\n",
       "      <td>CA-2011-115812</td>\n",
       "      <td>2011-09-06</td>\n",
       "      <td>2011-06-14</td>\n",
       "      <td>Brosina Hoffman</td>\n",
       "      <td>United States</td>\n",
       "      <td>Los Angeles</td>\n",
       "      <td>California</td>\n",
       "      <td>Binders</td>\n",
       "      <td>DXL Angle-View Binders with Locking Rings by S...</td>\n",
       "      <td>18.50</td>\n",
       "      <td>3.0</td>\n",
       "      <td>5.78</td>\n",
       "      <td>7.257600e+15</td>\n",
       "      <td>84 days</td>\n",
       "    </tr>\n",
       "    <tr>\n",
       "      <th>...</th>\n",
       "      <td>...</td>\n",
       "      <td>...</td>\n",
       "      <td>...</td>\n",
       "      <td>...</td>\n",
       "      <td>...</td>\n",
       "      <td>...</td>\n",
       "      <td>...</td>\n",
       "      <td>...</td>\n",
       "      <td>...</td>\n",
       "      <td>...</td>\n",
       "      <td>...</td>\n",
       "      <td>...</td>\n",
       "      <td>...</td>\n",
       "      <td>...</td>\n",
       "    </tr>\n",
       "    <tr>\n",
       "      <th>3198</th>\n",
       "      <td>CA-2013-125794</td>\n",
       "      <td>2013-09-30</td>\n",
       "      <td>2013-04-10</td>\n",
       "      <td>Maris LaWare</td>\n",
       "      <td>United States</td>\n",
       "      <td>Los Angeles</td>\n",
       "      <td>California</td>\n",
       "      <td>Accessories</td>\n",
       "      <td>Memorex Mini Travel Drive 64 GB USB 2.0 Flash ...</td>\n",
       "      <td>36.24</td>\n",
       "      <td>1.0</td>\n",
       "      <td>15.22</td>\n",
       "      <td>1.494720e+16</td>\n",
       "      <td>173 days</td>\n",
       "    </tr>\n",
       "    <tr>\n",
       "      <th>3199</th>\n",
       "      <td>CA-2014-121258</td>\n",
       "      <td>2014-02-27</td>\n",
       "      <td>2014-04-03</td>\n",
       "      <td>Dave Brooks</td>\n",
       "      <td>United States</td>\n",
       "      <td>Costa Mesa</td>\n",
       "      <td>California</td>\n",
       "      <td>Furnishings</td>\n",
       "      <td>Tenex B1-RE Series Chair Mats for Low Pile Car...</td>\n",
       "      <td>91.96</td>\n",
       "      <td>2.0</td>\n",
       "      <td>15.63</td>\n",
       "      <td>3.024000e+15</td>\n",
       "      <td>35 days</td>\n",
       "    </tr>\n",
       "    <tr>\n",
       "      <th>3200</th>\n",
       "      <td>CA-2014-121258</td>\n",
       "      <td>2014-02-27</td>\n",
       "      <td>2014-04-03</td>\n",
       "      <td>Dave Brooks</td>\n",
       "      <td>United States</td>\n",
       "      <td>Costa Mesa</td>\n",
       "      <td>California</td>\n",
       "      <td>Phones</td>\n",
       "      <td>Aastra 57i VoIP phone</td>\n",
       "      <td>258.58</td>\n",
       "      <td>2.0</td>\n",
       "      <td>19.39</td>\n",
       "      <td>3.024000e+15</td>\n",
       "      <td>35 days</td>\n",
       "    </tr>\n",
       "    <tr>\n",
       "      <th>3201</th>\n",
       "      <td>CA-2014-121258</td>\n",
       "      <td>2014-02-27</td>\n",
       "      <td>2014-04-03</td>\n",
       "      <td>Dave Brooks</td>\n",
       "      <td>United States</td>\n",
       "      <td>Costa Mesa</td>\n",
       "      <td>California</td>\n",
       "      <td>Paper</td>\n",
       "      <td>It's Hot Message Books with Stickers, 2 3/4\" x 5\"</td>\n",
       "      <td>29.60</td>\n",
       "      <td>4.0</td>\n",
       "      <td>13.32</td>\n",
       "      <td>3.024000e+15</td>\n",
       "      <td>35 days</td>\n",
       "    </tr>\n",
       "    <tr>\n",
       "      <th>3202</th>\n",
       "      <td>CA-2014-119914</td>\n",
       "      <td>2014-05-05</td>\n",
       "      <td>2014-10-05</td>\n",
       "      <td>Chris Cortes</td>\n",
       "      <td>United States</td>\n",
       "      <td>Westminster</td>\n",
       "      <td>California</td>\n",
       "      <td>Appliances</td>\n",
       "      <td>Acco 7-Outlet Masterpiece Power Center, Wihtou...</td>\n",
       "      <td>243.16</td>\n",
       "      <td>2.0</td>\n",
       "      <td>72.95</td>\n",
       "      <td>1.321920e+16</td>\n",
       "      <td>153 days</td>\n",
       "    </tr>\n",
       "  </tbody>\n",
       "</table>\n",
       "<p>3203 rows × 14 columns</p>\n",
       "</div>"
      ],
      "text/plain": [
       "             OrderID OrderDate1   ShipDate     CustomerName        Country  \\\n",
       "0     CA-2013-138688 2013-06-13 2013-06-17  Darrin Van Huff  United States   \n",
       "1     CA-2011-115812 2011-09-06 2011-06-14  Brosina Hoffman  United States   \n",
       "2     CA-2011-115812 2011-09-06 2011-06-14  Brosina Hoffman  United States   \n",
       "3     CA-2011-115812 2011-09-06 2011-06-14  Brosina Hoffman  United States   \n",
       "4     CA-2011-115812 2011-09-06 2011-06-14  Brosina Hoffman  United States   \n",
       "...              ...        ...        ...              ...            ...   \n",
       "3198  CA-2013-125794 2013-09-30 2013-04-10     Maris LaWare  United States   \n",
       "3199  CA-2014-121258 2014-02-27 2014-04-03      Dave Brooks  United States   \n",
       "3200  CA-2014-121258 2014-02-27 2014-04-03      Dave Brooks  United States   \n",
       "3201  CA-2014-121258 2014-02-27 2014-04-03      Dave Brooks  United States   \n",
       "3202  CA-2014-119914 2014-05-05 2014-10-05     Chris Cortes  United States   \n",
       "\n",
       "             City       State     Category  \\\n",
       "0     Los Angeles  California       Labels   \n",
       "1     Los Angeles  California  Furnishings   \n",
       "2     Los Angeles  California          Art   \n",
       "3     Los Angeles  California       Phones   \n",
       "4     Los Angeles  California      Binders   \n",
       "...           ...         ...          ...   \n",
       "3198  Los Angeles  California  Accessories   \n",
       "3199   Costa Mesa  California  Furnishings   \n",
       "3200   Costa Mesa  California       Phones   \n",
       "3201   Costa Mesa  California        Paper   \n",
       "3202  Westminster  California   Appliances   \n",
       "\n",
       "                                            ProductName   Sales  Quantity  \\\n",
       "0     Self-Adhesive Address Labels for Typewriters b...   14.62       2.0   \n",
       "1     Eldon Expressions Wood and Plastic Desk Access...   48.86       7.0   \n",
       "2                                            Newell 322    7.28       4.0   \n",
       "3                        Mitel 5320 IP Phone VoIP phone  907.15       4.0   \n",
       "4     DXL Angle-View Binders with Locking Rings by S...   18.50       3.0   \n",
       "...                                                 ...     ...       ...   \n",
       "3198  Memorex Mini Travel Drive 64 GB USB 2.0 Flash ...   36.24       1.0   \n",
       "3199  Tenex B1-RE Series Chair Mats for Low Pile Car...   91.96       2.0   \n",
       "3200                              Aastra 57i VoIP phone  258.58       2.0   \n",
       "3201  It's Hot Message Books with Stickers, 2 3/4\" x 5\"   29.60       4.0   \n",
       "3202  Acco 7-Outlet Masterpiece Power Center, Wihtou...  243.16       2.0   \n",
       "\n",
       "      Profit  Mediadeenviodeumproduto Tempo de envio em dias de um produto.  \n",
       "0       6.87             3.456000e+14                                4 days  \n",
       "1      14.17             7.257600e+15                               84 days  \n",
       "2       1.97             7.257600e+15                               84 days  \n",
       "3      90.72             7.257600e+15                               84 days  \n",
       "4       5.78             7.257600e+15                               84 days  \n",
       "...      ...                      ...                                   ...  \n",
       "3198   15.22             1.494720e+16                              173 days  \n",
       "3199   15.63             3.024000e+15                               35 days  \n",
       "3200   19.39             3.024000e+15                               35 days  \n",
       "3201   13.32             3.024000e+15                               35 days  \n",
       "3202   72.95             1.321920e+16                              153 days  \n",
       "\n",
       "[3203 rows x 14 columns]"
      ]
     },
     "execution_count": 69,
     "metadata": {},
     "output_type": "execute_result"
    }
   ],
   "source": [
    "df"
   ]
  },
  {
   "cell_type": "code",
   "execution_count": 70,
   "id": "bd00b39a",
   "metadata": {
    "execution": {
     "iopub.execute_input": "2023-03-11T22:54:04.688948Z",
     "iopub.status.busy": "2023-03-11T22:54:04.688539Z",
     "iopub.status.idle": "2023-03-11T22:54:04.700152Z",
     "shell.execute_reply": "2023-03-11T22:54:04.698839Z"
    },
    "id": "g7Tf3bzM9A1Y",
    "papermill": {
     "duration": 0.053116,
     "end_time": "2023-03-11T22:54:04.702827",
     "exception": false,
     "start_time": "2023-03-11T22:54:04.649711",
     "status": "completed"
    },
    "tags": []
   },
   "outputs": [],
   "source": [
    "graf_dados=df.groupby('State').mean().Mediadeenviodeumproduto.sort_values(ascending=False)"
   ]
  },
  {
   "cell_type": "code",
   "execution_count": 71,
   "id": "fe653318",
   "metadata": {
    "execution": {
     "iopub.execute_input": "2023-03-11T22:54:04.780589Z",
     "iopub.status.busy": "2023-03-11T22:54:04.779568Z",
     "iopub.status.idle": "2023-03-11T22:54:05.043558Z",
     "shell.execute_reply": "2023-03-11T22:54:05.042352Z"
    },
    "id": "C9Pb1dCP9h-R",
    "outputId": "306fca34-4286-4ffc-ddf9-b28db28cce7a",
    "papermill": {
     "duration": 0.305104,
     "end_time": "2023-03-11T22:54:05.045884",
     "exception": false,
     "start_time": "2023-03-11T22:54:04.740780",
     "status": "completed"
    },
    "tags": []
   },
   "outputs": [
    {
     "data": {
      "image/png": "[encoded data removed]",
      "text/plain": [
       "<Figure size 1500x700 with 1 Axes>"
      ]
     },
     "metadata": {},
     "output_type": "display_data"
    },
    {
     "data": {
      "text/plain": [
       "<Figure size 640x480 with 0 Axes>"
      ]
     },
     "metadata": {},
     "output_type": "display_data"
    }
   ],
   "source": [
    "\n",
    "plt.figure(figsize=(15,7))\n",
    "plt.bar(graf_dados.index,graf_dados.values,color ='C0')\n",
    "plt.title('Estado com o menor tempo de envio')\n",
    "plt.xticks(rotation=90)\n",
    "plt.legend(['Barras'])\n",
    "plt.show()\n",
    "plt.tight_layout()\n",
    "\n"
   ]
  },
  {
   "cell_type": "code",
   "execution_count": 72,
   "id": "507d20b3",
   "metadata": {
    "execution": {
     "iopub.execute_input": "2023-03-11T22:54:05.127001Z",
     "iopub.status.busy": "2023-03-11T22:54:05.126551Z",
     "iopub.status.idle": "2023-03-11T22:54:05.356847Z",
     "shell.execute_reply": "2023-03-11T22:54:05.355939Z"
    },
    "id": "AEKaV0h-_aHf",
    "outputId": "970b09d8-8167-4262-d252-bfeca6995aa8",
    "papermill": {
     "duration": 0.273845,
     "end_time": "2023-03-11T22:54:05.359248",
     "exception": false,
     "start_time": "2023-03-11T22:54:05.085403",
     "status": "completed"
    },
    "tags": []
   },
   "outputs": [
    {
     "data": {
      "image/png": "[encoded data removed]",
      "text/plain": [
       "<Figure size 1500x700 with 1 Axes>"
      ]
     },
     "metadata": {},
     "output_type": "display_data"
    }
   ],
   "source": [
    "\n",
    "plt.figure(figsize=(15,7))\n",
    "plt.plot(graf_dados.index,graf_dados.values,color ='C0')\n",
    "plt.title('Estado com o menor tempo de envio ')\n",
    "plt.xticks(rotation=90)\n",
    "plt.legend(['Linha'])\n",
    "plt.show()"
   ]
  },
  {
   "cell_type": "code",
   "execution_count": null,
   "id": "b6749e05",
   "metadata": {
    "id": "_rwBvgTsKJCI",
    "papermill": {
     "duration": 0.039528,
     "end_time": "2023-03-11T22:54:05.438457",
     "exception": false,
     "start_time": "2023-03-11T22:54:05.398929",
     "status": "completed"
    },
    "tags": []
   },
   "outputs": [],
   "source": []
  }
 ],
 "metadata": {
  "kernelspec": {
   "display_name": "Python 3",
   "language": "python",
   "name": "python3"
  },
  "language_info": {
   "codemirror_mode": {
    "name": "ipython",
    "version": 3
   },
   "file_extension": ".py",
   "mimetype": "text/x-python",
   "name": "python",
   "nbconvert_exporter": "python",
   "pygments_lexer": "ipython3",
   "version": "3.7.12"
  },
  "papermill": {
   "default_parameters": {},
   "duration": 28.174758,
   "end_time": "2023-03-11T22:54:06.301746",
   "environment_variables": {},
   "exception": null,
   "input_path": "__notebook__.ipynb",
   "output_path": "__notebook__.ipynb",
   "parameters": {},
   "start_time": "2023-03-11T22:53:38.126988",
   "version": "2.4.0"
  }
 },
 "nbformat": 4,
 "nbformat_minor": 5
}
